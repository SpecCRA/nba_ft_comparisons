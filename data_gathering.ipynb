{
 "cells": [
  {
   "cell_type": "code",
   "execution_count": 1,
   "metadata": {
    "collapsed": true
   },
   "outputs": [],
   "source": [
    "import pandas as pd\n",
    "import datetime\n",
    "import time\n",
    "from nba_api.stats.endpoints import LeagueDashPlayerStats"
   ]
  },
  {
   "cell_type": "code",
   "execution_count": 2,
   "outputs": [],
   "source": [
    "# measure type: usage\n",
    "# per mode: per game\n",
    "# 2021-22 start date: October 19, 2021\n",
    "# today: November 24, 2021\n",
    "# count n games\n",
    "\n",
    "# 2020-21 start date: December 22, 2020\n",
    "# find second date for n games"
   ],
   "metadata": {
    "collapsed": false,
    "pycharm": {
     "name": "#%%\n"
    }
   }
  },
  {
   "cell_type": "code",
   "execution_count": 3,
   "outputs": [],
   "source": [
    "TODAY = datetime.date.today()\n",
    "CURR_SEASON_START = datetime.datetime.strptime('2021-10-19','%Y-%m-%d').date()\n",
    "PAST_SEASON_START = datetime.datetime.strptime('2020-12-22','%Y-%m-%d').date()\n",
    "PAST_SEASON_CHECKPOINT = PAST_SEASON_START + (TODAY - CURR_SEASON_START)\n",
    "\n",
    "CURR_SEASON = '2021-22'\n",
    "PAST_SEASON = '2020-21'\n",
    "\n",
    "COLS = ['PLAYER_NAME', 'TEAM_ABBREVIATION', 'GP', 'MIN', 'PCT_FTA']"
   ],
   "metadata": {
    "collapsed": false,
    "pycharm": {
     "name": "#%%\n"
    }
   }
  },
  {
   "cell_type": "code",
   "execution_count": 4,
   "outputs": [],
   "source": [
    "CURR_SEASON_STATS = LeagueDashPlayerStats(\n",
    "    measure_type_detailed_defense='Usage',\n",
    "    per_mode_detailed='PerGame',\n",
    "    date_from_nullable=CURR_SEASON_START,\n",
    "    date_to_nullable=TODAY\n",
    ").get_data_frames()[0][COLS]\n",
    "\n",
    "time.sleep(10)"
   ],
   "metadata": {
    "collapsed": false,
    "pycharm": {
     "name": "#%%\n"
    }
   }
  },
  {
   "cell_type": "code",
   "execution_count": 5,
   "outputs": [],
   "source": [
    "PAST_SEASON_STATS = LeagueDashPlayerStats(\n",
    "    measure_type_detailed_defense='Usage',\n",
    "    per_mode_detailed='PerGame',\n",
    "    date_from_nullable=PAST_SEASON_START,\n",
    "    date_to_nullable=PAST_SEASON_CHECKPOINT,\n",
    "    season=PAST_SEASON\n",
    ").get_data_frames()[0][COLS]\n",
    "\n",
    "time.sleep(10)"
   ],
   "metadata": {
    "collapsed": false,
    "pycharm": {
     "name": "#%%\n"
    }
   }
  },
  {
   "cell_type": "code",
   "execution_count": 6,
   "outputs": [],
   "source": [
    "CURR_SEASON_FTA = LeagueDashPlayerStats(\n",
    "    measure_type_detailed_defense='Base',\n",
    "    per_mode_detailed='Per36',\n",
    "    date_from_nullable=CURR_SEASON_START,\n",
    "    date_to_nullable=TODAY,\n",
    "    season=CURR_SEASON\n",
    ").get_data_frames()[0][['PLAYER_NAME', 'TEAM_ABBREVIATION', 'GP', 'MIN', 'FTA']]\n",
    "\n",
    "time.sleep(10)"
   ],
   "metadata": {
    "collapsed": false,
    "pycharm": {
     "name": "#%%\n"
    }
   }
  },
  {
   "cell_type": "code",
   "execution_count": 7,
   "outputs": [],
   "source": [
    "PAST_SEASON_FTA = LeagueDashPlayerStats(\n",
    "    measure_type_detailed_defense='Base',\n",
    "    per_mode_detailed='Per36',\n",
    "    date_from_nullable=PAST_SEASON_START,\n",
    "    date_to_nullable=PAST_SEASON_CHECKPOINT,\n",
    "    season=PAST_SEASON\n",
    ").get_data_frames()[0][['PLAYER_NAME', 'TEAM_ABBREVIATION', 'GP', 'MIN', 'FTA']]\n"
   ],
   "metadata": {
    "collapsed": false,
    "pycharm": {
     "name": "#%%\n"
    }
   }
  },
  {
   "cell_type": "code",
   "execution_count": 8,
   "outputs": [],
   "source": [
    "# min games 15\n",
    "# min minutes\n",
    "CURR_SEASON_STATS = CURR_SEASON_STATS[\n",
    "    (CURR_SEASON_STATS['GP'] >= 10) &\n",
    "    (CURR_SEASON_STATS['MIN'] >= 100)\n",
    "].sort_values(by='PCT_FTA', ascending=False).iloc[:20]\n",
    "\n",
    "PLAYERS_LIST = list(CURR_SEASON_STATS['PLAYER_NAME'])"
   ],
   "metadata": {
    "collapsed": false,
    "pycharm": {
     "name": "#%%\n"
    }
   }
  },
  {
   "cell_type": "code",
   "execution_count": 9,
   "outputs": [
    {
     "data": {
      "text/plain": "               PLAYER_NAME TEAM_ABBREVIATION  GP    MIN  PCT_FTA\n159  Giannis Antetokounmpo               MIL  19  626.0    0.604\n224            Joel Embiid               PHI  16  506.0    0.593\n439             Trae Young               ATL  19  652.0    0.510\n221           Jimmy Butler               MIA   8  244.0    0.462\n266           Kevin Durant               BKN  16  589.0    0.450\n24             Bam Adebayo               MIA  18  596.0    0.444\n101          DeMar DeRozan               SAS  19  632.0    0.438\n182              Ja Morant               MEM   7  195.0    0.434\n390            Rudy Gobert               UTA  20  599.0    0.404\n200           James Harden               BKN  16  609.0    0.401\n123       Domantas Sabonis               IND  20  736.0    0.383\n16           Anthony Davis               LAL  19  628.0    0.380\n348           Nikola Jokic               DEN  20  715.0    0.365\n217           Jerami Grant               DET  20  714.0    0.342\n340               Naz Reid               MIN  18  390.0    0.283\n331       Montrezl Harrell               LAL  22  544.0    0.276\n180            Ivica Zubac               LAC  21  398.0    0.251\n276     Kristaps Porzingis               DAL  10  305.0    0.237\n70             Cody Zeller               CHA   8  192.0    0.210",
      "text/html": "<div>\n<style scoped>\n    .dataframe tbody tr th:only-of-type {\n        vertical-align: middle;\n    }\n\n    .dataframe tbody tr th {\n        vertical-align: top;\n    }\n\n    .dataframe thead th {\n        text-align: right;\n    }\n</style>\n<table border=\"1\" class=\"dataframe\">\n  <thead>\n    <tr style=\"text-align: right;\">\n      <th></th>\n      <th>PLAYER_NAME</th>\n      <th>TEAM_ABBREVIATION</th>\n      <th>GP</th>\n      <th>MIN</th>\n      <th>PCT_FTA</th>\n    </tr>\n  </thead>\n  <tbody>\n    <tr>\n      <th>159</th>\n      <td>Giannis Antetokounmpo</td>\n      <td>MIL</td>\n      <td>19</td>\n      <td>626.0</td>\n      <td>0.604</td>\n    </tr>\n    <tr>\n      <th>224</th>\n      <td>Joel Embiid</td>\n      <td>PHI</td>\n      <td>16</td>\n      <td>506.0</td>\n      <td>0.593</td>\n    </tr>\n    <tr>\n      <th>439</th>\n      <td>Trae Young</td>\n      <td>ATL</td>\n      <td>19</td>\n      <td>652.0</td>\n      <td>0.510</td>\n    </tr>\n    <tr>\n      <th>221</th>\n      <td>Jimmy Butler</td>\n      <td>MIA</td>\n      <td>8</td>\n      <td>244.0</td>\n      <td>0.462</td>\n    </tr>\n    <tr>\n      <th>266</th>\n      <td>Kevin Durant</td>\n      <td>BKN</td>\n      <td>16</td>\n      <td>589.0</td>\n      <td>0.450</td>\n    </tr>\n    <tr>\n      <th>24</th>\n      <td>Bam Adebayo</td>\n      <td>MIA</td>\n      <td>18</td>\n      <td>596.0</td>\n      <td>0.444</td>\n    </tr>\n    <tr>\n      <th>101</th>\n      <td>DeMar DeRozan</td>\n      <td>SAS</td>\n      <td>19</td>\n      <td>632.0</td>\n      <td>0.438</td>\n    </tr>\n    <tr>\n      <th>182</th>\n      <td>Ja Morant</td>\n      <td>MEM</td>\n      <td>7</td>\n      <td>195.0</td>\n      <td>0.434</td>\n    </tr>\n    <tr>\n      <th>390</th>\n      <td>Rudy Gobert</td>\n      <td>UTA</td>\n      <td>20</td>\n      <td>599.0</td>\n      <td>0.404</td>\n    </tr>\n    <tr>\n      <th>200</th>\n      <td>James Harden</td>\n      <td>BKN</td>\n      <td>16</td>\n      <td>609.0</td>\n      <td>0.401</td>\n    </tr>\n    <tr>\n      <th>123</th>\n      <td>Domantas Sabonis</td>\n      <td>IND</td>\n      <td>20</td>\n      <td>736.0</td>\n      <td>0.383</td>\n    </tr>\n    <tr>\n      <th>16</th>\n      <td>Anthony Davis</td>\n      <td>LAL</td>\n      <td>19</td>\n      <td>628.0</td>\n      <td>0.380</td>\n    </tr>\n    <tr>\n      <th>348</th>\n      <td>Nikola Jokic</td>\n      <td>DEN</td>\n      <td>20</td>\n      <td>715.0</td>\n      <td>0.365</td>\n    </tr>\n    <tr>\n      <th>217</th>\n      <td>Jerami Grant</td>\n      <td>DET</td>\n      <td>20</td>\n      <td>714.0</td>\n      <td>0.342</td>\n    </tr>\n    <tr>\n      <th>340</th>\n      <td>Naz Reid</td>\n      <td>MIN</td>\n      <td>18</td>\n      <td>390.0</td>\n      <td>0.283</td>\n    </tr>\n    <tr>\n      <th>331</th>\n      <td>Montrezl Harrell</td>\n      <td>LAL</td>\n      <td>22</td>\n      <td>544.0</td>\n      <td>0.276</td>\n    </tr>\n    <tr>\n      <th>180</th>\n      <td>Ivica Zubac</td>\n      <td>LAC</td>\n      <td>21</td>\n      <td>398.0</td>\n      <td>0.251</td>\n    </tr>\n    <tr>\n      <th>276</th>\n      <td>Kristaps Porzingis</td>\n      <td>DAL</td>\n      <td>10</td>\n      <td>305.0</td>\n      <td>0.237</td>\n    </tr>\n    <tr>\n      <th>70</th>\n      <td>Cody Zeller</td>\n      <td>CHA</td>\n      <td>8</td>\n      <td>192.0</td>\n      <td>0.210</td>\n    </tr>\n  </tbody>\n</table>\n</div>"
     },
     "execution_count": 9,
     "metadata": {},
     "output_type": "execute_result"
    }
   ],
   "source": [
    "PAST_SEASON_STATS = PAST_SEASON_STATS[\n",
    "    PAST_SEASON_STATS['PLAYER_NAME'].isin(PLAYERS_LIST)\n",
    "].sort_values(by='PCT_FTA', ascending=False)\n",
    "\n",
    "PAST_SEASON_STATS"
   ],
   "metadata": {
    "collapsed": false,
    "pycharm": {
     "name": "#%%\n"
    }
   }
  },
  {
   "cell_type": "code",
   "execution_count": 10,
   "outputs": [
    {
     "data": {
      "text/plain": "               PLAYER_NAME TEAM_ABBREVIATION  GP    MIN  PCT_FTA\n157  Giannis Antetokounmpo               MIL  20  648.0    0.674\n230            Joel Embiid               PHI  10  323.0    0.613\n224           Jimmy Butler               MIA  17  582.0    0.497\n98           DeMar DeRozan               CHI  21  736.0    0.492\n349           Nikola Jokic               DEN  14  454.0    0.484\n390            Rudy Gobert               UTA  20  628.0    0.450\n26             Bam Adebayo               MIA  17  557.0    0.444\n183              Ja Morant               MEM  19  619.0    0.429\n202           James Harden               BKN  20  705.0    0.426\n284     Kristaps Porzingis               DAL  13  400.0    0.421\n219           Jerami Grant               DET  19  621.0    0.414\n272           Kevin Durant               BKN  19  676.0    0.411\n433             Trae Young               ATL  21  709.0    0.410\n333       Montrezl Harrell               WAS  20  546.0    0.399\n69             Cody Zeller               POR  19  241.0    0.398\n18           Anthony Davis               LAL  21  751.0    0.394\n181            Ivica Zubac               LAC  20  496.0    0.378\n342               Naz Reid               MIN  18  278.0    0.378\n12          Alperen Sengun               HOU  18  329.0    0.374\n119       Domantas Sabonis               IND  22  738.0    0.373",
      "text/html": "<div>\n<style scoped>\n    .dataframe tbody tr th:only-of-type {\n        vertical-align: middle;\n    }\n\n    .dataframe tbody tr th {\n        vertical-align: top;\n    }\n\n    .dataframe thead th {\n        text-align: right;\n    }\n</style>\n<table border=\"1\" class=\"dataframe\">\n  <thead>\n    <tr style=\"text-align: right;\">\n      <th></th>\n      <th>PLAYER_NAME</th>\n      <th>TEAM_ABBREVIATION</th>\n      <th>GP</th>\n      <th>MIN</th>\n      <th>PCT_FTA</th>\n    </tr>\n  </thead>\n  <tbody>\n    <tr>\n      <th>157</th>\n      <td>Giannis Antetokounmpo</td>\n      <td>MIL</td>\n      <td>20</td>\n      <td>648.0</td>\n      <td>0.674</td>\n    </tr>\n    <tr>\n      <th>230</th>\n      <td>Joel Embiid</td>\n      <td>PHI</td>\n      <td>10</td>\n      <td>323.0</td>\n      <td>0.613</td>\n    </tr>\n    <tr>\n      <th>224</th>\n      <td>Jimmy Butler</td>\n      <td>MIA</td>\n      <td>17</td>\n      <td>582.0</td>\n      <td>0.497</td>\n    </tr>\n    <tr>\n      <th>98</th>\n      <td>DeMar DeRozan</td>\n      <td>CHI</td>\n      <td>21</td>\n      <td>736.0</td>\n      <td>0.492</td>\n    </tr>\n    <tr>\n      <th>349</th>\n      <td>Nikola Jokic</td>\n      <td>DEN</td>\n      <td>14</td>\n      <td>454.0</td>\n      <td>0.484</td>\n    </tr>\n    <tr>\n      <th>390</th>\n      <td>Rudy Gobert</td>\n      <td>UTA</td>\n      <td>20</td>\n      <td>628.0</td>\n      <td>0.450</td>\n    </tr>\n    <tr>\n      <th>26</th>\n      <td>Bam Adebayo</td>\n      <td>MIA</td>\n      <td>17</td>\n      <td>557.0</td>\n      <td>0.444</td>\n    </tr>\n    <tr>\n      <th>183</th>\n      <td>Ja Morant</td>\n      <td>MEM</td>\n      <td>19</td>\n      <td>619.0</td>\n      <td>0.429</td>\n    </tr>\n    <tr>\n      <th>202</th>\n      <td>James Harden</td>\n      <td>BKN</td>\n      <td>20</td>\n      <td>705.0</td>\n      <td>0.426</td>\n    </tr>\n    <tr>\n      <th>284</th>\n      <td>Kristaps Porzingis</td>\n      <td>DAL</td>\n      <td>13</td>\n      <td>400.0</td>\n      <td>0.421</td>\n    </tr>\n    <tr>\n      <th>219</th>\n      <td>Jerami Grant</td>\n      <td>DET</td>\n      <td>19</td>\n      <td>621.0</td>\n      <td>0.414</td>\n    </tr>\n    <tr>\n      <th>272</th>\n      <td>Kevin Durant</td>\n      <td>BKN</td>\n      <td>19</td>\n      <td>676.0</td>\n      <td>0.411</td>\n    </tr>\n    <tr>\n      <th>433</th>\n      <td>Trae Young</td>\n      <td>ATL</td>\n      <td>21</td>\n      <td>709.0</td>\n      <td>0.410</td>\n    </tr>\n    <tr>\n      <th>333</th>\n      <td>Montrezl Harrell</td>\n      <td>WAS</td>\n      <td>20</td>\n      <td>546.0</td>\n      <td>0.399</td>\n    </tr>\n    <tr>\n      <th>69</th>\n      <td>Cody Zeller</td>\n      <td>POR</td>\n      <td>19</td>\n      <td>241.0</td>\n      <td>0.398</td>\n    </tr>\n    <tr>\n      <th>18</th>\n      <td>Anthony Davis</td>\n      <td>LAL</td>\n      <td>21</td>\n      <td>751.0</td>\n      <td>0.394</td>\n    </tr>\n    <tr>\n      <th>181</th>\n      <td>Ivica Zubac</td>\n      <td>LAC</td>\n      <td>20</td>\n      <td>496.0</td>\n      <td>0.378</td>\n    </tr>\n    <tr>\n      <th>342</th>\n      <td>Naz Reid</td>\n      <td>MIN</td>\n      <td>18</td>\n      <td>278.0</td>\n      <td>0.378</td>\n    </tr>\n    <tr>\n      <th>12</th>\n      <td>Alperen Sengun</td>\n      <td>HOU</td>\n      <td>18</td>\n      <td>329.0</td>\n      <td>0.374</td>\n    </tr>\n    <tr>\n      <th>119</th>\n      <td>Domantas Sabonis</td>\n      <td>IND</td>\n      <td>22</td>\n      <td>738.0</td>\n      <td>0.373</td>\n    </tr>\n  </tbody>\n</table>\n</div>"
     },
     "execution_count": 10,
     "metadata": {},
     "output_type": "execute_result"
    }
   ],
   "source": [
    "CURR_SEASON_STATS"
   ],
   "metadata": {
    "collapsed": false,
    "pycharm": {
     "name": "#%%\n"
    }
   }
  },
  {
   "cell_type": "code",
   "execution_count": 11,
   "outputs": [],
   "source": [
    "# combine data and begin graphing\n",
    "CURR_SEASON_STATS.rename(columns={'PCT_FTA': 'CURR_FTR'}, inplace=True)\n",
    "CURR_SEASON_STATS.drop(columns=['TEAM_ABBREVIATION', 'GP', 'MIN'], inplace=True)"
   ],
   "metadata": {
    "collapsed": false,
    "pycharm": {
     "name": "#%%\n"
    }
   }
  },
  {
   "cell_type": "code",
   "execution_count": 12,
   "outputs": [],
   "source": [
    "df = CURR_SEASON_STATS.merge(PAST_SEASON_STATS, left_on='PLAYER_NAME', right_on='PLAYER_NAME')\n",
    "df.rename(columns={'PCT_FTA': 'PAST_FTR'}, inplace=True)\n",
    "df['FTR_DIFF'] = df['PAST_FTR'] - df['CURR_FTR']\n",
    "df.drop(columns=['TEAM_ABBREVIATION', 'GP', 'MIN'], inplace=True)\n",
    "df.sort_values(by='FTR_DIFF', ascending=False, inplace=True)"
   ],
   "metadata": {
    "collapsed": false,
    "pycharm": {
     "name": "#%%\n"
    }
   }
  },
  {
   "cell_type": "code",
   "execution_count": 13,
   "outputs": [],
   "source": [
    "# filter FTA dfs\n",
    "CURR_SEASON_FTA = CURR_SEASON_FTA[CURR_SEASON_FTA['PLAYER_NAME'].isin(PLAYERS_LIST)]\n",
    "PAST_SEASON_FTA = PAST_SEASON_FTA[PAST_SEASON_FTA['PLAYER_NAME'].isin(PLAYERS_LIST)]\n",
    "\n",
    "CURR_SEASON_FTA.rename(columns={'FTA': 'CURR_FTA'}, inplace=True)\n",
    "PAST_SEASON_FTA.rename(columns={'FTA': 'PAST_FTA'}, inplace=True)\n",
    "\n",
    "df = df.merge(CURR_SEASON_FTA[['PLAYER_NAME', 'CURR_FTA']], left_on='PLAYER_NAME', right_on='PLAYER_NAME')\n",
    "df = df.merge(PAST_SEASON_FTA[['PLAYER_NAME', 'PAST_FTA']], left_on='PLAYER_NAME', right_on='PLAYER_NAME')\n",
    "\n",
    "df['FTA_DIFF'] = df['PAST_FTA'] - df['CURR_FTA']\n"
   ],
   "metadata": {
    "collapsed": false,
    "pycharm": {
     "name": "#%%\n"
    }
   }
  },
  {
   "cell_type": "code",
   "execution_count": 14,
   "outputs": [
    {
     "data": {
      "text/plain": "              PLAYER_NAME  CURR_FTR  PAST_FTR  FTR_DIFF  CURR_FTA  PAST_FTA  \\\n0              Trae Young     0.410     0.510     0.100       6.1      11.2   \n1            Kevin Durant     0.411     0.450     0.039       6.9       8.2   \n2        Domantas Sabonis     0.373     0.383     0.010       4.6       5.6   \n3               Ja Morant     0.429     0.434     0.005       6.5       6.6   \n4             Bam Adebayo     0.444     0.444     0.000       7.0       6.5   \n5           Anthony Davis     0.394     0.380    -0.014       6.4       6.4   \n6             Joel Embiid     0.613     0.593    -0.020      10.9      12.9   \n7            James Harden     0.426     0.401    -0.025       6.9       6.9   \n8            Jimmy Butler     0.497     0.462    -0.035       9.1       8.1   \n9             Rudy Gobert     0.450     0.404    -0.046       7.5       6.5   \n10          DeMar DeRozan     0.492     0.438    -0.054       7.8       7.0   \n11  Giannis Antetokounmpo     0.674     0.604    -0.070      11.2      10.9   \n12           Jerami Grant     0.414     0.342    -0.072       6.3       6.4   \n13               Naz Reid     0.378     0.283    -0.095       4.4       4.3   \n14           Nikola Jokic     0.484     0.365    -0.119       6.0       5.8   \n15       Montrezl Harrell     0.399     0.276    -0.123       7.1       4.7   \n16            Ivica Zubac     0.378     0.251    -0.127       5.1       4.5   \n17     Kristaps Porzingis     0.421     0.237    -0.184       5.5       3.3   \n18            Cody Zeller     0.398     0.210    -0.188       6.4       3.2   \n\n    FTA_DIFF  \n0        5.1  \n1        1.3  \n2        1.0  \n3        0.1  \n4       -0.5  \n5        0.0  \n6        2.0  \n7        0.0  \n8       -1.0  \n9       -1.0  \n10      -0.8  \n11      -0.3  \n12       0.1  \n13      -0.1  \n14      -0.2  \n15      -2.4  \n16      -0.6  \n17      -2.2  \n18      -3.2  ",
      "text/html": "<div>\n<style scoped>\n    .dataframe tbody tr th:only-of-type {\n        vertical-align: middle;\n    }\n\n    .dataframe tbody tr th {\n        vertical-align: top;\n    }\n\n    .dataframe thead th {\n        text-align: right;\n    }\n</style>\n<table border=\"1\" class=\"dataframe\">\n  <thead>\n    <tr style=\"text-align: right;\">\n      <th></th>\n      <th>PLAYER_NAME</th>\n      <th>CURR_FTR</th>\n      <th>PAST_FTR</th>\n      <th>FTR_DIFF</th>\n      <th>CURR_FTA</th>\n      <th>PAST_FTA</th>\n      <th>FTA_DIFF</th>\n    </tr>\n  </thead>\n  <tbody>\n    <tr>\n      <th>0</th>\n      <td>Trae Young</td>\n      <td>0.410</td>\n      <td>0.510</td>\n      <td>0.100</td>\n      <td>6.1</td>\n      <td>11.2</td>\n      <td>5.1</td>\n    </tr>\n    <tr>\n      <th>1</th>\n      <td>Kevin Durant</td>\n      <td>0.411</td>\n      <td>0.450</td>\n      <td>0.039</td>\n      <td>6.9</td>\n      <td>8.2</td>\n      <td>1.3</td>\n    </tr>\n    <tr>\n      <th>2</th>\n      <td>Domantas Sabonis</td>\n      <td>0.373</td>\n      <td>0.383</td>\n      <td>0.010</td>\n      <td>4.6</td>\n      <td>5.6</td>\n      <td>1.0</td>\n    </tr>\n    <tr>\n      <th>3</th>\n      <td>Ja Morant</td>\n      <td>0.429</td>\n      <td>0.434</td>\n      <td>0.005</td>\n      <td>6.5</td>\n      <td>6.6</td>\n      <td>0.1</td>\n    </tr>\n    <tr>\n      <th>4</th>\n      <td>Bam Adebayo</td>\n      <td>0.444</td>\n      <td>0.444</td>\n      <td>0.000</td>\n      <td>7.0</td>\n      <td>6.5</td>\n      <td>-0.5</td>\n    </tr>\n    <tr>\n      <th>5</th>\n      <td>Anthony Davis</td>\n      <td>0.394</td>\n      <td>0.380</td>\n      <td>-0.014</td>\n      <td>6.4</td>\n      <td>6.4</td>\n      <td>0.0</td>\n    </tr>\n    <tr>\n      <th>6</th>\n      <td>Joel Embiid</td>\n      <td>0.613</td>\n      <td>0.593</td>\n      <td>-0.020</td>\n      <td>10.9</td>\n      <td>12.9</td>\n      <td>2.0</td>\n    </tr>\n    <tr>\n      <th>7</th>\n      <td>James Harden</td>\n      <td>0.426</td>\n      <td>0.401</td>\n      <td>-0.025</td>\n      <td>6.9</td>\n      <td>6.9</td>\n      <td>0.0</td>\n    </tr>\n    <tr>\n      <th>8</th>\n      <td>Jimmy Butler</td>\n      <td>0.497</td>\n      <td>0.462</td>\n      <td>-0.035</td>\n      <td>9.1</td>\n      <td>8.1</td>\n      <td>-1.0</td>\n    </tr>\n    <tr>\n      <th>9</th>\n      <td>Rudy Gobert</td>\n      <td>0.450</td>\n      <td>0.404</td>\n      <td>-0.046</td>\n      <td>7.5</td>\n      <td>6.5</td>\n      <td>-1.0</td>\n    </tr>\n    <tr>\n      <th>10</th>\n      <td>DeMar DeRozan</td>\n      <td>0.492</td>\n      <td>0.438</td>\n      <td>-0.054</td>\n      <td>7.8</td>\n      <td>7.0</td>\n      <td>-0.8</td>\n    </tr>\n    <tr>\n      <th>11</th>\n      <td>Giannis Antetokounmpo</td>\n      <td>0.674</td>\n      <td>0.604</td>\n      <td>-0.070</td>\n      <td>11.2</td>\n      <td>10.9</td>\n      <td>-0.3</td>\n    </tr>\n    <tr>\n      <th>12</th>\n      <td>Jerami Grant</td>\n      <td>0.414</td>\n      <td>0.342</td>\n      <td>-0.072</td>\n      <td>6.3</td>\n      <td>6.4</td>\n      <td>0.1</td>\n    </tr>\n    <tr>\n      <th>13</th>\n      <td>Naz Reid</td>\n      <td>0.378</td>\n      <td>0.283</td>\n      <td>-0.095</td>\n      <td>4.4</td>\n      <td>4.3</td>\n      <td>-0.1</td>\n    </tr>\n    <tr>\n      <th>14</th>\n      <td>Nikola Jokic</td>\n      <td>0.484</td>\n      <td>0.365</td>\n      <td>-0.119</td>\n      <td>6.0</td>\n      <td>5.8</td>\n      <td>-0.2</td>\n    </tr>\n    <tr>\n      <th>15</th>\n      <td>Montrezl Harrell</td>\n      <td>0.399</td>\n      <td>0.276</td>\n      <td>-0.123</td>\n      <td>7.1</td>\n      <td>4.7</td>\n      <td>-2.4</td>\n    </tr>\n    <tr>\n      <th>16</th>\n      <td>Ivica Zubac</td>\n      <td>0.378</td>\n      <td>0.251</td>\n      <td>-0.127</td>\n      <td>5.1</td>\n      <td>4.5</td>\n      <td>-0.6</td>\n    </tr>\n    <tr>\n      <th>17</th>\n      <td>Kristaps Porzingis</td>\n      <td>0.421</td>\n      <td>0.237</td>\n      <td>-0.184</td>\n      <td>5.5</td>\n      <td>3.3</td>\n      <td>-2.2</td>\n    </tr>\n    <tr>\n      <th>18</th>\n      <td>Cody Zeller</td>\n      <td>0.398</td>\n      <td>0.210</td>\n      <td>-0.188</td>\n      <td>6.4</td>\n      <td>3.2</td>\n      <td>-3.2</td>\n    </tr>\n  </tbody>\n</table>\n</div>"
     },
     "execution_count": 14,
     "metadata": {},
     "output_type": "execute_result"
    }
   ],
   "source": [
    "df"
   ],
   "metadata": {
    "collapsed": false,
    "pycharm": {
     "name": "#%%\n"
    }
   }
  },
  {
   "cell_type": "code",
   "execution_count": 16,
   "outputs": [],
   "source": [
    "df.to_csv('data/nba_ftr_diffs.csv')"
   ],
   "metadata": {
    "collapsed": false,
    "pycharm": {
     "name": "#%%\n"
    }
   }
  }
 ],
 "metadata": {
  "kernelspec": {
   "display_name": "Python 3",
   "language": "python",
   "name": "python3"
  },
  "language_info": {
   "codemirror_mode": {
    "name": "ipython",
    "version": 2
   },
   "file_extension": ".py",
   "mimetype": "text/x-python",
   "name": "python",
   "nbconvert_exporter": "python",
   "pygments_lexer": "ipython2",
   "version": "2.7.6"
  }
 },
 "nbformat": 4,
 "nbformat_minor": 0
}