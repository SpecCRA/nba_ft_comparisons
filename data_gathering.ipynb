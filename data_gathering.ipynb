{
 "cells": [
  {
   "cell_type": "code",
   "execution_count": 1,
   "metadata": {
    "collapsed": true
   },
   "outputs": [],
   "source": [
    "import pandas as pd\n",
    "import datetime\n",
    "import time\n",
    "from nba_api.stats.endpoints import LeagueDashPlayerStats\n",
    "from nba_api.stats.static import players\n",
    "import requests\n",
    "from PIL import Image"
   ]
  },
  {
   "cell_type": "code",
   "execution_count": 2,
   "outputs": [],
   "source": [
    "# measure type: usage\n",
    "# per mode: per game\n",
    "# 2021-22 start date: October 19, 2021\n",
    "# today: November 24, 2021\n",
    "# count n games\n",
    "\n",
    "# 2020-21 start date: December 22, 2020\n",
    "# find second date for n games"
   ],
   "metadata": {
    "collapsed": false,
    "pycharm": {
     "name": "#%%\n"
    }
   }
  },
  {
   "cell_type": "code",
   "execution_count": 3,
   "outputs": [],
   "source": [
    "TODAY = datetime.date.today()\n",
    "CURR_SEASON_START = datetime.datetime.strptime('2021-10-19','%Y-%m-%d').date()\n",
    "PAST_SEASON_START = datetime.datetime.strptime('2020-12-22','%Y-%m-%d').date()\n",
    "PAST_SEASON_CHECKPOINT = PAST_SEASON_START + (TODAY - CURR_SEASON_START)\n",
    "\n",
    "CURR_SEASON = '2021-22'\n",
    "PAST_SEASON = '2020-21'\n",
    "\n",
    "COLS = ['PLAYER_NAME', 'TEAM_ABBREVIATION', 'GP', 'MIN', 'PCT_FTA']"
   ],
   "metadata": {
    "collapsed": false,
    "pycharm": {
     "name": "#%%\n"
    }
   }
  },
  {
   "cell_type": "code",
   "execution_count": 4,
   "outputs": [],
   "source": [
    "CURR_SEASON_STATS = LeagueDashPlayerStats(\n",
    "    measure_type_detailed_defense='Usage',\n",
    "    per_mode_detailed='PerGame',\n",
    "    date_from_nullable=CURR_SEASON_START,\n",
    "    date_to_nullable=TODAY\n",
    ").get_data_frames()[0][COLS]\n",
    "\n",
    "time.sleep(10)"
   ],
   "metadata": {
    "collapsed": false,
    "pycharm": {
     "name": "#%%\n"
    }
   }
  },
  {
   "cell_type": "code",
   "execution_count": 5,
   "outputs": [],
   "source": [
    "PAST_SEASON_STATS = LeagueDashPlayerStats(\n",
    "    measure_type_detailed_defense='Usage',\n",
    "    per_mode_detailed='PerGame',\n",
    "    date_from_nullable=PAST_SEASON_START,\n",
    "    date_to_nullable=PAST_SEASON_CHECKPOINT,\n",
    "    season=PAST_SEASON\n",
    ").get_data_frames()[0][COLS]\n",
    "\n",
    "time.sleep(10)"
   ],
   "metadata": {
    "collapsed": false,
    "pycharm": {
     "name": "#%%\n"
    }
   }
  },
  {
   "cell_type": "code",
   "execution_count": 6,
   "outputs": [],
   "source": [
    "CURR_SEASON_FTA = LeagueDashPlayerStats(\n",
    "    measure_type_detailed_defense='Base',\n",
    "    per_mode_detailed='Per36',\n",
    "    date_from_nullable=CURR_SEASON_START,\n",
    "    date_to_nullable=TODAY,\n",
    "    season=CURR_SEASON\n",
    ").get_data_frames()[0][['PLAYER_NAME', 'TEAM_ABBREVIATION', 'GP', 'MIN', 'FTA']]\n",
    "\n",
    "time.sleep(10)"
   ],
   "metadata": {
    "collapsed": false,
    "pycharm": {
     "name": "#%%\n"
    }
   }
  },
  {
   "cell_type": "code",
   "execution_count": 7,
   "outputs": [],
   "source": [
    "PAST_SEASON_FTA = LeagueDashPlayerStats(\n",
    "    measure_type_detailed_defense='Base',\n",
    "    per_mode_detailed='Per36',\n",
    "    date_from_nullable=PAST_SEASON_START,\n",
    "    date_to_nullable=PAST_SEASON_CHECKPOINT,\n",
    "    season=PAST_SEASON\n",
    ").get_data_frames()[0][['PLAYER_NAME', 'TEAM_ABBREVIATION', 'GP', 'MIN', 'FTA']]\n",
    "\n",
    "time.sleep(10)"
   ],
   "metadata": {
    "collapsed": false,
    "pycharm": {
     "name": "#%%\n"
    }
   }
  },
  {
   "cell_type": "code",
   "execution_count": 8,
   "outputs": [],
   "source": [
    "PLAYERS_LIST_REF = LeagueDashPlayerStats(\n",
    "    measure_type_detailed_defense='Base',\n",
    "    per_mode_detailed='Per36',\n",
    "    season=PAST_SEASON\n",
    ").get_data_frames()[0][['PLAYER_NAME', 'TEAM_ABBREVIATION', 'GP', 'MIN', 'FTA']]"
   ],
   "metadata": {
    "collapsed": false,
    "pycharm": {
     "name": "#%%\n"
    }
   }
  },
  {
   "cell_type": "code",
   "execution_count": 9,
   "outputs": [],
   "source": [
    "PLAYERS_LIST_REF = PLAYERS_LIST_REF[\n",
    "    (PLAYERS_LIST_REF['GP'] >= 41) &\n",
    "    (PLAYERS_LIST_REF['MIN'] >= 1600)\n",
    "].sort_values(by='FTA', ascending=False).iloc[:15]"
   ],
   "metadata": {
    "collapsed": false,
    "pycharm": {
     "name": "#%%\n"
    }
   }
  },
  {
   "cell_type": "code",
   "execution_count": 10,
   "outputs": [],
   "source": [
    "PLAYERS_LIST = list(PLAYERS_LIST_REF['PLAYER_NAME'])"
   ],
   "metadata": {
    "collapsed": false,
    "pycharm": {
     "name": "#%%\n"
    }
   }
  },
  {
   "cell_type": "code",
   "execution_count": 11,
   "outputs": [
    {
     "data": {
      "text/plain": "         PLAYER_NAME TEAM_ABBREVIATION  GP         MIN  FTA\n0       Aaron Gordon               DEN  19  552.020000  5.2\n1      Aaron Holiday               IND  23  465.575000  1.4\n2      Aaron Nesmith               BOS   9  115.003333  0.0\n3        Abdel Nader               PHX   9  159.605000  4.1\n4        Adam Mokoka               CHI   6   41.115000  0.0\n..               ...               ...  ..         ...  ...\n470     Yogi Ferrell               LAC   2   40.501667  1.8\n471    Yuta Watanabe               TOR  16  199.366667  1.4\n472      Zach LaVine               CHI  21  745.943333  5.4\n473       Zeke Nnaji               DEN  10   23.361667  0.0\n474  Zion Williamson               NOP  20  653.803333  8.0\n\n[475 rows x 5 columns]",
      "text/html": "<div>\n<style scoped>\n    .dataframe tbody tr th:only-of-type {\n        vertical-align: middle;\n    }\n\n    .dataframe tbody tr th {\n        vertical-align: top;\n    }\n\n    .dataframe thead th {\n        text-align: right;\n    }\n</style>\n<table border=\"1\" class=\"dataframe\">\n  <thead>\n    <tr style=\"text-align: right;\">\n      <th></th>\n      <th>PLAYER_NAME</th>\n      <th>TEAM_ABBREVIATION</th>\n      <th>GP</th>\n      <th>MIN</th>\n      <th>FTA</th>\n    </tr>\n  </thead>\n  <tbody>\n    <tr>\n      <th>0</th>\n      <td>Aaron Gordon</td>\n      <td>DEN</td>\n      <td>19</td>\n      <td>552.020000</td>\n      <td>5.2</td>\n    </tr>\n    <tr>\n      <th>1</th>\n      <td>Aaron Holiday</td>\n      <td>IND</td>\n      <td>23</td>\n      <td>465.575000</td>\n      <td>1.4</td>\n    </tr>\n    <tr>\n      <th>2</th>\n      <td>Aaron Nesmith</td>\n      <td>BOS</td>\n      <td>9</td>\n      <td>115.003333</td>\n      <td>0.0</td>\n    </tr>\n    <tr>\n      <th>3</th>\n      <td>Abdel Nader</td>\n      <td>PHX</td>\n      <td>9</td>\n      <td>159.605000</td>\n      <td>4.1</td>\n    </tr>\n    <tr>\n      <th>4</th>\n      <td>Adam Mokoka</td>\n      <td>CHI</td>\n      <td>6</td>\n      <td>41.115000</td>\n      <td>0.0</td>\n    </tr>\n    <tr>\n      <th>...</th>\n      <td>...</td>\n      <td>...</td>\n      <td>...</td>\n      <td>...</td>\n      <td>...</td>\n    </tr>\n    <tr>\n      <th>470</th>\n      <td>Yogi Ferrell</td>\n      <td>LAC</td>\n      <td>2</td>\n      <td>40.501667</td>\n      <td>1.8</td>\n    </tr>\n    <tr>\n      <th>471</th>\n      <td>Yuta Watanabe</td>\n      <td>TOR</td>\n      <td>16</td>\n      <td>199.366667</td>\n      <td>1.4</td>\n    </tr>\n    <tr>\n      <th>472</th>\n      <td>Zach LaVine</td>\n      <td>CHI</td>\n      <td>21</td>\n      <td>745.943333</td>\n      <td>5.4</td>\n    </tr>\n    <tr>\n      <th>473</th>\n      <td>Zeke Nnaji</td>\n      <td>DEN</td>\n      <td>10</td>\n      <td>23.361667</td>\n      <td>0.0</td>\n    </tr>\n    <tr>\n      <th>474</th>\n      <td>Zion Williamson</td>\n      <td>NOP</td>\n      <td>20</td>\n      <td>653.803333</td>\n      <td>8.0</td>\n    </tr>\n  </tbody>\n</table>\n<p>475 rows × 5 columns</p>\n</div>"
     },
     "execution_count": 11,
     "metadata": {},
     "output_type": "execute_result"
    }
   ],
   "source": [
    "PAST_SEASON_FTA"
   ],
   "metadata": {
    "collapsed": false,
    "pycharm": {
     "name": "#%%\n"
    }
   }
  },
  {
   "cell_type": "code",
   "execution_count": 12,
   "outputs": [
    {
     "data": {
      "text/plain": "         PLAYER_NAME TEAM_ABBREVIATION  GP    MIN  PCT_FTA\n0       Aaron Gordon               DEN  21  673.0    0.250\n1        Aaron Henry               PHI   1    2.0    0.000\n2      Aaron Holiday               WAS  22  389.0    0.084\n3      Aaron Nesmith               BOS  17  157.0    0.041\n4      Aaron Wiggins               OKC   9  130.0    0.123\n..               ...               ...  ..    ...      ...\n467    Yuta Watanabe               TOR   4   66.0    0.222\n468        Yves Pons               MEM   1    3.0    0.000\n469      Zach LaVine               CHI  23  799.0    0.322\n470       Zeke Nnaji               DEN   9  109.0    0.333\n471  Ziaire Williams               MEM  18  335.0    0.041\n\n[472 rows x 5 columns]",
      "text/html": "<div>\n<style scoped>\n    .dataframe tbody tr th:only-of-type {\n        vertical-align: middle;\n    }\n\n    .dataframe tbody tr th {\n        vertical-align: top;\n    }\n\n    .dataframe thead th {\n        text-align: right;\n    }\n</style>\n<table border=\"1\" class=\"dataframe\">\n  <thead>\n    <tr style=\"text-align: right;\">\n      <th></th>\n      <th>PLAYER_NAME</th>\n      <th>TEAM_ABBREVIATION</th>\n      <th>GP</th>\n      <th>MIN</th>\n      <th>PCT_FTA</th>\n    </tr>\n  </thead>\n  <tbody>\n    <tr>\n      <th>0</th>\n      <td>Aaron Gordon</td>\n      <td>DEN</td>\n      <td>21</td>\n      <td>673.0</td>\n      <td>0.250</td>\n    </tr>\n    <tr>\n      <th>1</th>\n      <td>Aaron Henry</td>\n      <td>PHI</td>\n      <td>1</td>\n      <td>2.0</td>\n      <td>0.000</td>\n    </tr>\n    <tr>\n      <th>2</th>\n      <td>Aaron Holiday</td>\n      <td>WAS</td>\n      <td>22</td>\n      <td>389.0</td>\n      <td>0.084</td>\n    </tr>\n    <tr>\n      <th>3</th>\n      <td>Aaron Nesmith</td>\n      <td>BOS</td>\n      <td>17</td>\n      <td>157.0</td>\n      <td>0.041</td>\n    </tr>\n    <tr>\n      <th>4</th>\n      <td>Aaron Wiggins</td>\n      <td>OKC</td>\n      <td>9</td>\n      <td>130.0</td>\n      <td>0.123</td>\n    </tr>\n    <tr>\n      <th>...</th>\n      <td>...</td>\n      <td>...</td>\n      <td>...</td>\n      <td>...</td>\n      <td>...</td>\n    </tr>\n    <tr>\n      <th>467</th>\n      <td>Yuta Watanabe</td>\n      <td>TOR</td>\n      <td>4</td>\n      <td>66.0</td>\n      <td>0.222</td>\n    </tr>\n    <tr>\n      <th>468</th>\n      <td>Yves Pons</td>\n      <td>MEM</td>\n      <td>1</td>\n      <td>3.0</td>\n      <td>0.000</td>\n    </tr>\n    <tr>\n      <th>469</th>\n      <td>Zach LaVine</td>\n      <td>CHI</td>\n      <td>23</td>\n      <td>799.0</td>\n      <td>0.322</td>\n    </tr>\n    <tr>\n      <th>470</th>\n      <td>Zeke Nnaji</td>\n      <td>DEN</td>\n      <td>9</td>\n      <td>109.0</td>\n      <td>0.333</td>\n    </tr>\n    <tr>\n      <th>471</th>\n      <td>Ziaire Williams</td>\n      <td>MEM</td>\n      <td>18</td>\n      <td>335.0</td>\n      <td>0.041</td>\n    </tr>\n  </tbody>\n</table>\n<p>472 rows × 5 columns</p>\n</div>"
     },
     "execution_count": 12,
     "metadata": {},
     "output_type": "execute_result"
    }
   ],
   "source": [
    "CURR_SEASON_STATS\n",
    "\n",
    "# PLAYERS_LIST = list(CURR_SEASON_STATS['PLAYER_NAME'])"
   ],
   "metadata": {
    "collapsed": false,
    "pycharm": {
     "name": "#%%\n"
    }
   }
  },
  {
   "cell_type": "code",
   "execution_count": 13,
   "outputs": [
    {
     "data": {
      "text/plain": "         PLAYER_NAME TEAM_ABBREVIATION  GP    MIN  PCT_FTA\n0       Aaron Gordon               DEN  19  552.0    0.319\n1      Aaron Holiday               IND  23  466.0    0.088\n2      Aaron Nesmith               BOS   9  115.0    0.000\n3        Abdel Nader               PHX   9  160.0    0.247\n4        Adam Mokoka               CHI   6   41.0    0.000\n..               ...               ...  ..    ...      ...\n470     Yogi Ferrell               LAC   2   41.0    0.182\n471    Yuta Watanabe               TOR  16  199.0    0.096\n472      Zach LaVine               CHI  21  746.0    0.330\n473       Zeke Nnaji               DEN  10   23.0    0.000\n474  Zion Williamson               NOP  20  654.0    0.391\n\n[475 rows x 5 columns]",
      "text/html": "<div>\n<style scoped>\n    .dataframe tbody tr th:only-of-type {\n        vertical-align: middle;\n    }\n\n    .dataframe tbody tr th {\n        vertical-align: top;\n    }\n\n    .dataframe thead th {\n        text-align: right;\n    }\n</style>\n<table border=\"1\" class=\"dataframe\">\n  <thead>\n    <tr style=\"text-align: right;\">\n      <th></th>\n      <th>PLAYER_NAME</th>\n      <th>TEAM_ABBREVIATION</th>\n      <th>GP</th>\n      <th>MIN</th>\n      <th>PCT_FTA</th>\n    </tr>\n  </thead>\n  <tbody>\n    <tr>\n      <th>0</th>\n      <td>Aaron Gordon</td>\n      <td>DEN</td>\n      <td>19</td>\n      <td>552.0</td>\n      <td>0.319</td>\n    </tr>\n    <tr>\n      <th>1</th>\n      <td>Aaron Holiday</td>\n      <td>IND</td>\n      <td>23</td>\n      <td>466.0</td>\n      <td>0.088</td>\n    </tr>\n    <tr>\n      <th>2</th>\n      <td>Aaron Nesmith</td>\n      <td>BOS</td>\n      <td>9</td>\n      <td>115.0</td>\n      <td>0.000</td>\n    </tr>\n    <tr>\n      <th>3</th>\n      <td>Abdel Nader</td>\n      <td>PHX</td>\n      <td>9</td>\n      <td>160.0</td>\n      <td>0.247</td>\n    </tr>\n    <tr>\n      <th>4</th>\n      <td>Adam Mokoka</td>\n      <td>CHI</td>\n      <td>6</td>\n      <td>41.0</td>\n      <td>0.000</td>\n    </tr>\n    <tr>\n      <th>...</th>\n      <td>...</td>\n      <td>...</td>\n      <td>...</td>\n      <td>...</td>\n      <td>...</td>\n    </tr>\n    <tr>\n      <th>470</th>\n      <td>Yogi Ferrell</td>\n      <td>LAC</td>\n      <td>2</td>\n      <td>41.0</td>\n      <td>0.182</td>\n    </tr>\n    <tr>\n      <th>471</th>\n      <td>Yuta Watanabe</td>\n      <td>TOR</td>\n      <td>16</td>\n      <td>199.0</td>\n      <td>0.096</td>\n    </tr>\n    <tr>\n      <th>472</th>\n      <td>Zach LaVine</td>\n      <td>CHI</td>\n      <td>21</td>\n      <td>746.0</td>\n      <td>0.330</td>\n    </tr>\n    <tr>\n      <th>473</th>\n      <td>Zeke Nnaji</td>\n      <td>DEN</td>\n      <td>10</td>\n      <td>23.0</td>\n      <td>0.000</td>\n    </tr>\n    <tr>\n      <th>474</th>\n      <td>Zion Williamson</td>\n      <td>NOP</td>\n      <td>20</td>\n      <td>654.0</td>\n      <td>0.391</td>\n    </tr>\n  </tbody>\n</table>\n<p>475 rows × 5 columns</p>\n</div>"
     },
     "execution_count": 13,
     "metadata": {},
     "output_type": "execute_result"
    }
   ],
   "source": [
    "PAST_SEASON_STATS"
   ],
   "metadata": {
    "collapsed": false,
    "pycharm": {
     "name": "#%%\n"
    }
   }
  },
  {
   "cell_type": "code",
   "execution_count": 14,
   "outputs": [],
   "source": [
    "# combine data and begin graphing\n",
    "CURR_SEASON_STATS.rename(columns={'PCT_FTA': 'CURR_FTR', 'MIN': 'CURR_MIN', 'GP': 'CURR_GP'}, inplace=True)\n",
    "CURR_SEASON_STATS.drop(columns=['TEAM_ABBREVIATION'], inplace=True)"
   ],
   "metadata": {
    "collapsed": false,
    "pycharm": {
     "name": "#%%\n"
    }
   }
  },
  {
   "cell_type": "code",
   "execution_count": 15,
   "outputs": [],
   "source": [
    "df = CURR_SEASON_STATS.merge(PAST_SEASON_STATS, left_on='PLAYER_NAME', right_on='PLAYER_NAME')\n",
    "df.rename(columns={'PCT_FTA': 'PAST_FTR', 'MIN': 'PAST_MIN', 'GP': 'PAST_GP'}, inplace=True)\n",
    "df['FTR_DIFF'] = df['CURR_FTR'] - df['PAST_FTR']\n",
    "df.sort_values(by='FTR_DIFF', ascending=False, inplace=True)"
   ],
   "metadata": {
    "collapsed": false,
    "pycharm": {
     "name": "#%%\n"
    }
   }
  },
  {
   "cell_type": "code",
   "execution_count": 16,
   "outputs": [],
   "source": [
    "CURR_SEASON_FTA.rename(columns={'FTA': 'CURR_FTA'}, inplace=True)\n",
    "PAST_SEASON_FTA.rename(columns={'FTA': 'PAST_FTA'}, inplace=True)\n",
    "\n",
    "df = df.merge(CURR_SEASON_FTA[['PLAYER_NAME', 'CURR_FTA']], left_on='PLAYER_NAME', right_on='PLAYER_NAME')\n",
    "df = df.merge(PAST_SEASON_FTA[['PLAYER_NAME', 'PAST_FTA']], left_on='PLAYER_NAME', right_on='PLAYER_NAME')\n",
    "\n",
    "df['FTA_DIFF'] = df['CURR_FTA'] - df['PAST_FTA']\n"
   ],
   "metadata": {
    "collapsed": false,
    "pycharm": {
     "name": "#%%\n"
    }
   }
  },
  {
   "cell_type": "code",
   "execution_count": 17,
   "outputs": [
    {
     "data": {
      "text/plain": "          PLAYER_NAME  CURR_GP  CURR_MIN  CURR_FTR TEAM_ABBREVIATION  PAST_GP  \\\n0       Vlatko Cancar        3      23.0     0.500               DEN        9   \n1     Sekou Doumbouya        2      16.0     0.571               DET       21   \n2          Zeke Nnaji        9     109.0     0.333               DEN       10   \n3          Tacko Fall        7      19.0     0.500               BOS        4   \n4           KZ Okpala       10      63.0     0.348               MIA       13   \n..                ...      ...       ...       ...               ...      ...   \n367    Hamidou Diallo       16     233.0     0.153               DET       21   \n368    Udoka Azubuike        4       8.0     0.000               UTA       12   \n369  DeMarcus Cousins        1      15.0     0.000               LAC       18   \n370    Brodric Thomas        2       2.0     0.000               CLE        4   \n371  Vernon Carey Jr.        1       1.0     0.000               CHA        3   \n\n     PAST_MIN  PAST_FTR  FTR_DIFF  CURR_FTA  PAST_FTA  FTA_DIFF  \n0        21.0     0.000     0.500       6.3       0.0       6.3  \n1       269.0     0.163     0.408       8.8       2.8       6.0  \n2        23.0     0.000     0.333       4.0       0.0       4.0  \n3        42.0     0.211     0.289       7.4       3.5       3.9  \n4       166.0     0.081     0.267       4.6       1.3       3.3  \n..        ...       ...       ...       ...       ...       ...  \n367     450.0     0.425    -0.272       2.8       7.0      -4.2  \n368      49.0     0.316    -0.316       0.0       4.4      -4.4  \n369     325.0     0.321    -0.321       0.0       4.9      -4.9  \n370      24.0     0.350    -0.350       0.0      10.4     -10.4  \n371       6.0     1.000    -1.000       0.0      11.5     -11.5  \n\n[372 rows x 12 columns]",
      "text/html": "<div>\n<style scoped>\n    .dataframe tbody tr th:only-of-type {\n        vertical-align: middle;\n    }\n\n    .dataframe tbody tr th {\n        vertical-align: top;\n    }\n\n    .dataframe thead th {\n        text-align: right;\n    }\n</style>\n<table border=\"1\" class=\"dataframe\">\n  <thead>\n    <tr style=\"text-align: right;\">\n      <th></th>\n      <th>PLAYER_NAME</th>\n      <th>CURR_GP</th>\n      <th>CURR_MIN</th>\n      <th>CURR_FTR</th>\n      <th>TEAM_ABBREVIATION</th>\n      <th>PAST_GP</th>\n      <th>PAST_MIN</th>\n      <th>PAST_FTR</th>\n      <th>FTR_DIFF</th>\n      <th>CURR_FTA</th>\n      <th>PAST_FTA</th>\n      <th>FTA_DIFF</th>\n    </tr>\n  </thead>\n  <tbody>\n    <tr>\n      <th>0</th>\n      <td>Vlatko Cancar</td>\n      <td>3</td>\n      <td>23.0</td>\n      <td>0.500</td>\n      <td>DEN</td>\n      <td>9</td>\n      <td>21.0</td>\n      <td>0.000</td>\n      <td>0.500</td>\n      <td>6.3</td>\n      <td>0.0</td>\n      <td>6.3</td>\n    </tr>\n    <tr>\n      <th>1</th>\n      <td>Sekou Doumbouya</td>\n      <td>2</td>\n      <td>16.0</td>\n      <td>0.571</td>\n      <td>DET</td>\n      <td>21</td>\n      <td>269.0</td>\n      <td>0.163</td>\n      <td>0.408</td>\n      <td>8.8</td>\n      <td>2.8</td>\n      <td>6.0</td>\n    </tr>\n    <tr>\n      <th>2</th>\n      <td>Zeke Nnaji</td>\n      <td>9</td>\n      <td>109.0</td>\n      <td>0.333</td>\n      <td>DEN</td>\n      <td>10</td>\n      <td>23.0</td>\n      <td>0.000</td>\n      <td>0.333</td>\n      <td>4.0</td>\n      <td>0.0</td>\n      <td>4.0</td>\n    </tr>\n    <tr>\n      <th>3</th>\n      <td>Tacko Fall</td>\n      <td>7</td>\n      <td>19.0</td>\n      <td>0.500</td>\n      <td>BOS</td>\n      <td>4</td>\n      <td>42.0</td>\n      <td>0.211</td>\n      <td>0.289</td>\n      <td>7.4</td>\n      <td>3.5</td>\n      <td>3.9</td>\n    </tr>\n    <tr>\n      <th>4</th>\n      <td>KZ Okpala</td>\n      <td>10</td>\n      <td>63.0</td>\n      <td>0.348</td>\n      <td>MIA</td>\n      <td>13</td>\n      <td>166.0</td>\n      <td>0.081</td>\n      <td>0.267</td>\n      <td>4.6</td>\n      <td>1.3</td>\n      <td>3.3</td>\n    </tr>\n    <tr>\n      <th>...</th>\n      <td>...</td>\n      <td>...</td>\n      <td>...</td>\n      <td>...</td>\n      <td>...</td>\n      <td>...</td>\n      <td>...</td>\n      <td>...</td>\n      <td>...</td>\n      <td>...</td>\n      <td>...</td>\n      <td>...</td>\n    </tr>\n    <tr>\n      <th>367</th>\n      <td>Hamidou Diallo</td>\n      <td>16</td>\n      <td>233.0</td>\n      <td>0.153</td>\n      <td>DET</td>\n      <td>21</td>\n      <td>450.0</td>\n      <td>0.425</td>\n      <td>-0.272</td>\n      <td>2.8</td>\n      <td>7.0</td>\n      <td>-4.2</td>\n    </tr>\n    <tr>\n      <th>368</th>\n      <td>Udoka Azubuike</td>\n      <td>4</td>\n      <td>8.0</td>\n      <td>0.000</td>\n      <td>UTA</td>\n      <td>12</td>\n      <td>49.0</td>\n      <td>0.316</td>\n      <td>-0.316</td>\n      <td>0.0</td>\n      <td>4.4</td>\n      <td>-4.4</td>\n    </tr>\n    <tr>\n      <th>369</th>\n      <td>DeMarcus Cousins</td>\n      <td>1</td>\n      <td>15.0</td>\n      <td>0.000</td>\n      <td>LAC</td>\n      <td>18</td>\n      <td>325.0</td>\n      <td>0.321</td>\n      <td>-0.321</td>\n      <td>0.0</td>\n      <td>4.9</td>\n      <td>-4.9</td>\n    </tr>\n    <tr>\n      <th>370</th>\n      <td>Brodric Thomas</td>\n      <td>2</td>\n      <td>2.0</td>\n      <td>0.000</td>\n      <td>CLE</td>\n      <td>4</td>\n      <td>24.0</td>\n      <td>0.350</td>\n      <td>-0.350</td>\n      <td>0.0</td>\n      <td>10.4</td>\n      <td>-10.4</td>\n    </tr>\n    <tr>\n      <th>371</th>\n      <td>Vernon Carey Jr.</td>\n      <td>1</td>\n      <td>1.0</td>\n      <td>0.000</td>\n      <td>CHA</td>\n      <td>3</td>\n      <td>6.0</td>\n      <td>1.000</td>\n      <td>-1.000</td>\n      <td>0.0</td>\n      <td>11.5</td>\n      <td>-11.5</td>\n    </tr>\n  </tbody>\n</table>\n<p>372 rows × 12 columns</p>\n</div>"
     },
     "execution_count": 17,
     "metadata": {},
     "output_type": "execute_result"
    }
   ],
   "source": [
    "df.dropna(how='any', inplace=True)\n",
    "df"
   ],
   "metadata": {
    "collapsed": false,
    "pycharm": {
     "name": "#%%\n"
    }
   }
  },
  {
   "cell_type": "code",
   "execution_count": 18,
   "outputs": [],
   "source": [
    "# export full dataset\n",
    "df.to_csv('data/nba_ftr_diffs.csv')\n",
    "\n",
    "# export past season's top 15 FTA\n",
    "df.sort_values(by='PAST_FTA', ascending=False).iloc[:15].to_csv('data/nba_top15_fta.csv')"
   ],
   "metadata": {
    "collapsed": false,
    "pycharm": {
     "name": "#%%\n"
    }
   }
  },
  {
   "cell_type": "code",
   "execution_count": 19,
   "outputs": [],
   "source": [
    "# Download top 15 player headshots\n",
    "# Look up player ID list\n",
    "# Save player IDs\n",
    "PLAYER_IDS = dict()\n",
    "IMG_STR = 'https://ak-static.cms.nba.com/wp-content/uploads/headshots/nba/latest/260x190/202695.png'\n",
    "\n",
    "ACTIVE_PLAYERS = players.get_active_players()\n",
    "\n",
    "for player in ACTIVE_PLAYERS:\n",
    "    if player['full_name'] in PLAYERS_LIST:\n",
    "        PLAYER_IDS[player['full_name']] = player['id']"
   ],
   "metadata": {
    "collapsed": false,
    "pycharm": {
     "name": "#%%\n"
    }
   }
  },
  {
   "cell_type": "code",
   "execution_count": 20,
   "outputs": [
    {
     "data": {
      "text/plain": "{'Giannis Antetokounmpo': 203507,\n 'Bradley Beal': 203078,\n 'Jimmy Butler': 202710,\n 'Stephen Curry': 201939,\n 'DeMar DeRozan': 201942,\n 'Luka Doncic': 1629029,\n \"De'Aaron Fox\": 1628368,\n 'Jerami Grant': 203924,\n 'James Harden': 201935,\n 'Damian Lillard': 203081,\n 'Ja Morant': 1629630,\n 'Collin Sexton': 1629012,\n 'Karl-Anthony Towns': 1626157,\n 'Zion Williamson': 1629627,\n 'Trae Young': 1629027}"
     },
     "execution_count": 20,
     "metadata": {},
     "output_type": "execute_result"
    }
   ],
   "source": [
    "\n",
    "PLAYER_IDS"
   ],
   "metadata": {
    "collapsed": false,
    "pycharm": {
     "name": "#%%\n"
    }
   }
  }
 ],
 "metadata": {
  "kernelspec": {
   "display_name": "Python 3",
   "language": "python",
   "name": "python3"
  },
  "language_info": {
   "codemirror_mode": {
    "name": "ipython",
    "version": 2
   },
   "file_extension": ".py",
   "mimetype": "text/x-python",
   "name": "python",
   "nbconvert_exporter": "python",
   "pygments_lexer": "ipython2",
   "version": "2.7.6"
  }
 },
 "nbformat": 4,
 "nbformat_minor": 0
}