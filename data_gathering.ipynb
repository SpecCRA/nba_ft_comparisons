{
 "cells": [
  {
   "cell_type": "code",
   "execution_count": 16,
   "metadata": {
    "collapsed": true
   },
   "outputs": [],
   "source": [
    "import pandas as pd\n",
    "import datetime\n",
    "import time\n",
    "from nba_api.stats.endpoints import LeagueDashPlayerStats"
   ]
  },
  {
   "cell_type": "code",
   "execution_count": 17,
   "outputs": [],
   "source": [
    "# measure type: usage\n",
    "# per mode: per game\n",
    "# 2021-22 start date: October 19, 2021\n",
    "# today: November 24, 2021\n",
    "# count n games\n",
    "\n",
    "# 2020-21 start date: December 22, 2020\n",
    "# find second date for n games"
   ],
   "metadata": {
    "collapsed": false,
    "pycharm": {
     "name": "#%%\n"
    }
   }
  },
  {
   "cell_type": "code",
   "execution_count": 18,
   "outputs": [],
   "source": [
    "TODAY = datetime.date.today()\n",
    "CURR_SEASON_START = datetime.datetime.strptime('2021-10-19','%Y-%m-%d').date()\n",
    "PAST_SEASON_START = datetime.datetime.strptime('2020-12-22','%Y-%m-%d').date()\n",
    "PAST_SEASON_CHECKPOINT = PAST_SEASON_START + (TODAY - CURR_SEASON_START)\n",
    "\n",
    "CURR_SEASON = '2021-22'\n",
    "PAST_SEASON = '2020-21'\n",
    "\n",
    "COLS = ['PLAYER_NAME', 'TEAM_ABBREVIATION', 'GP', 'MIN', 'PCT_FTA']"
   ],
   "metadata": {
    "collapsed": false,
    "pycharm": {
     "name": "#%%\n"
    }
   }
  },
  {
   "cell_type": "code",
   "execution_count": 19,
   "outputs": [],
   "source": [
    "CURR_SEASON_STATS = LeagueDashPlayerStats(\n",
    "    measure_type_detailed_defense='Usage',\n",
    "    per_mode_detailed='PerGame',\n",
    "    date_from_nullable=CURR_SEASON_START,\n",
    "    date_to_nullable=TODAY\n",
    ").get_data_frames()[0][COLS]\n",
    "\n",
    "time.sleep(10)"
   ],
   "metadata": {
    "collapsed": false,
    "pycharm": {
     "name": "#%%\n"
    }
   }
  },
  {
   "cell_type": "code",
   "execution_count": 20,
   "outputs": [],
   "source": [
    "PAST_SEASON_STATS = LeagueDashPlayerStats(\n",
    "    measure_type_detailed_defense='Usage',\n",
    "    per_mode_detailed='PerGame',\n",
    "    date_from_nullable=PAST_SEASON_START,\n",
    "    date_to_nullable=PAST_SEASON_CHECKPOINT,\n",
    "    season=PAST_SEASON\n",
    ").get_data_frames()[0][COLS]\n",
    "\n",
    "time.sleep(10)"
   ],
   "metadata": {
    "collapsed": false,
    "pycharm": {
     "name": "#%%\n"
    }
   }
  },
  {
   "cell_type": "code",
   "execution_count": 21,
   "outputs": [],
   "source": [
    "CURR_SEASON_FTA = LeagueDashPlayerStats(\n",
    "    measure_type_detailed_defense='Base',\n",
    "    per_mode_detailed='Per36',\n",
    "    date_from_nullable=CURR_SEASON_START,\n",
    "    date_to_nullable=TODAY,\n",
    "    season=CURR_SEASON\n",
    ").get_data_frames()[0][['PLAYER_NAME', 'TEAM_ABBREVIATION', 'GP', 'MIN', 'FTA']]\n",
    "\n",
    "time.sleep(10)"
   ],
   "metadata": {
    "collapsed": false,
    "pycharm": {
     "name": "#%%\n"
    }
   }
  },
  {
   "cell_type": "code",
   "execution_count": 22,
   "outputs": [],
   "source": [
    "PAST_SEASON_FTA = LeagueDashPlayerStats(\n",
    "    measure_type_detailed_defense='Base',\n",
    "    per_mode_detailed='Per36',\n",
    "    date_from_nullable=PAST_SEASON_START,\n",
    "    date_to_nullable=PAST_SEASON_CHECKPOINT,\n",
    "    season=PAST_SEASON\n",
    ").get_data_frames()[0][['PLAYER_NAME', 'TEAM_ABBREVIATION', 'GP', 'MIN', 'FTA']]\n"
   ],
   "metadata": {
    "collapsed": false,
    "pycharm": {
     "name": "#%%\n"
    }
   }
  },
  {
   "cell_type": "code",
   "execution_count": 23,
   "outputs": [],
   "source": [
    "# min games 15\n",
    "# min minutes\n",
    "CURR_SEASON_STATS = CURR_SEASON_STATS[\n",
    "    (CURR_SEASON_STATS['GP'] >= 10) &\n",
    "    (CURR_SEASON_STATS['MIN'] >= 100)\n",
    "].sort_values(by='PCT_FTA', ascending=False).iloc[:20]\n",
    "\n",
    "PLAYERS_LIST = list(CURR_SEASON_STATS['PLAYER_NAME'])"
   ],
   "metadata": {
    "collapsed": false,
    "pycharm": {
     "name": "#%%\n"
    }
   }
  },
  {
   "cell_type": "code",
   "execution_count": 24,
   "outputs": [
    {
     "data": {
      "text/plain": "               PLAYER_NAME TEAM_ABBREVIATION  GP    MIN  PCT_FTA\n159  Giannis Antetokounmpo               MIL  17  561.0    0.600\n439             Trae Young               ATL  18  614.0    0.504\n24             Bam Adebayo               MIA  16  522.0    0.490\n182              Ja Morant               MEM   5  146.0    0.484\n101          DeMar DeRozan               SAS  17  577.0    0.476\n266           Kevin Durant               BKN  15  551.0    0.453\n294            Luka Doncic               DAL  18  623.0    0.452\n390            Rudy Gobert               UTA  19  573.0    0.408\n200           James Harden               BKN  16  609.0    0.401\n123       Domantas Sabonis               IND  19  699.0    0.390\n16           Anthony Davis               LAL  17  557.0    0.377\n221           Jimmy Butler               MIA   6  174.0    0.358\n348           Nikola Jokic               DEN  19  678.0    0.353\n217           Jerami Grant               DET  19  686.0    0.343\n340               Naz Reid               MIN  17  376.0    0.287\n331       Montrezl Harrell               LAL  20  485.0    0.282\n180            Ivica Zubac               LAC  20  375.0    0.259\n276     Kristaps Porzingis               DAL   9  270.0    0.235\n70             Cody Zeller               CHA   6  118.0    0.224",
      "text/html": "<div>\n<style scoped>\n    .dataframe tbody tr th:only-of-type {\n        vertical-align: middle;\n    }\n\n    .dataframe tbody tr th {\n        vertical-align: top;\n    }\n\n    .dataframe thead th {\n        text-align: right;\n    }\n</style>\n<table border=\"1\" class=\"dataframe\">\n  <thead>\n    <tr style=\"text-align: right;\">\n      <th></th>\n      <th>PLAYER_NAME</th>\n      <th>TEAM_ABBREVIATION</th>\n      <th>GP</th>\n      <th>MIN</th>\n      <th>PCT_FTA</th>\n    </tr>\n  </thead>\n  <tbody>\n    <tr>\n      <th>159</th>\n      <td>Giannis Antetokounmpo</td>\n      <td>MIL</td>\n      <td>17</td>\n      <td>561.0</td>\n      <td>0.600</td>\n    </tr>\n    <tr>\n      <th>439</th>\n      <td>Trae Young</td>\n      <td>ATL</td>\n      <td>18</td>\n      <td>614.0</td>\n      <td>0.504</td>\n    </tr>\n    <tr>\n      <th>24</th>\n      <td>Bam Adebayo</td>\n      <td>MIA</td>\n      <td>16</td>\n      <td>522.0</td>\n      <td>0.490</td>\n    </tr>\n    <tr>\n      <th>182</th>\n      <td>Ja Morant</td>\n      <td>MEM</td>\n      <td>5</td>\n      <td>146.0</td>\n      <td>0.484</td>\n    </tr>\n    <tr>\n      <th>101</th>\n      <td>DeMar DeRozan</td>\n      <td>SAS</td>\n      <td>17</td>\n      <td>577.0</td>\n      <td>0.476</td>\n    </tr>\n    <tr>\n      <th>266</th>\n      <td>Kevin Durant</td>\n      <td>BKN</td>\n      <td>15</td>\n      <td>551.0</td>\n      <td>0.453</td>\n    </tr>\n    <tr>\n      <th>294</th>\n      <td>Luka Doncic</td>\n      <td>DAL</td>\n      <td>18</td>\n      <td>623.0</td>\n      <td>0.452</td>\n    </tr>\n    <tr>\n      <th>390</th>\n      <td>Rudy Gobert</td>\n      <td>UTA</td>\n      <td>19</td>\n      <td>573.0</td>\n      <td>0.408</td>\n    </tr>\n    <tr>\n      <th>200</th>\n      <td>James Harden</td>\n      <td>BKN</td>\n      <td>16</td>\n      <td>609.0</td>\n      <td>0.401</td>\n    </tr>\n    <tr>\n      <th>123</th>\n      <td>Domantas Sabonis</td>\n      <td>IND</td>\n      <td>19</td>\n      <td>699.0</td>\n      <td>0.390</td>\n    </tr>\n    <tr>\n      <th>16</th>\n      <td>Anthony Davis</td>\n      <td>LAL</td>\n      <td>17</td>\n      <td>557.0</td>\n      <td>0.377</td>\n    </tr>\n    <tr>\n      <th>221</th>\n      <td>Jimmy Butler</td>\n      <td>MIA</td>\n      <td>6</td>\n      <td>174.0</td>\n      <td>0.358</td>\n    </tr>\n    <tr>\n      <th>348</th>\n      <td>Nikola Jokic</td>\n      <td>DEN</td>\n      <td>19</td>\n      <td>678.0</td>\n      <td>0.353</td>\n    </tr>\n    <tr>\n      <th>217</th>\n      <td>Jerami Grant</td>\n      <td>DET</td>\n      <td>19</td>\n      <td>686.0</td>\n      <td>0.343</td>\n    </tr>\n    <tr>\n      <th>340</th>\n      <td>Naz Reid</td>\n      <td>MIN</td>\n      <td>17</td>\n      <td>376.0</td>\n      <td>0.287</td>\n    </tr>\n    <tr>\n      <th>331</th>\n      <td>Montrezl Harrell</td>\n      <td>LAL</td>\n      <td>20</td>\n      <td>485.0</td>\n      <td>0.282</td>\n    </tr>\n    <tr>\n      <th>180</th>\n      <td>Ivica Zubac</td>\n      <td>LAC</td>\n      <td>20</td>\n      <td>375.0</td>\n      <td>0.259</td>\n    </tr>\n    <tr>\n      <th>276</th>\n      <td>Kristaps Porzingis</td>\n      <td>DAL</td>\n      <td>9</td>\n      <td>270.0</td>\n      <td>0.235</td>\n    </tr>\n    <tr>\n      <th>70</th>\n      <td>Cody Zeller</td>\n      <td>CHA</td>\n      <td>6</td>\n      <td>118.0</td>\n      <td>0.224</td>\n    </tr>\n  </tbody>\n</table>\n</div>"
     },
     "execution_count": 24,
     "metadata": {},
     "output_type": "execute_result"
    }
   ],
   "source": [
    "PAST_SEASON_STATS = PAST_SEASON_STATS[\n",
    "    PAST_SEASON_STATS['PLAYER_NAME'].isin(PLAYERS_LIST)\n",
    "].sort_values(by='PCT_FTA', ascending=False)\n",
    "\n",
    "PAST_SEASON_STATS"
   ],
   "metadata": {
    "collapsed": false,
    "pycharm": {
     "name": "#%%\n"
    }
   }
  },
  {
   "cell_type": "code",
   "execution_count": 25,
   "outputs": [
    {
     "data": {
      "text/plain": "               PLAYER_NAME TEAM_ABBREVIATION  GP    MIN  PCT_FTA\n157  Giannis Antetokounmpo               MIL  18  586.0    0.679\n224           Jimmy Butler               MIA  16  546.0    0.504\n98           DeMar DeRozan               CHI  20  695.0    0.495\n348           Nikola Jokic               DEN  14  454.0    0.484\n26             Bam Adebayo               MIA  16  524.0    0.461\n389            Rudy Gobert               UTA  18  564.0    0.442\n202           James Harden               BKN  19  665.0    0.436\n183              Ja Morant               MEM  19  619.0    0.429\n284     Kristaps Porzingis               DAL  12  365.0    0.426\n18           Anthony Davis               LAL  19  665.0    0.411\n219           Jerami Grant               DET  18  588.0    0.410\n272           Kevin Durant               BKN  18  631.0    0.403\n69             Cody Zeller               POR  19  241.0    0.398\n332       Montrezl Harrell               WAS  19  525.0    0.398\n432             Trae Young               ATL  20  670.0    0.397\n341               Naz Reid               MIN  17  258.0    0.391\n181            Ivica Zubac               LAC  19  475.0    0.391\n119       Domantas Sabonis               IND  21  716.0    0.377\n12          Alperen Sengun               HOU  17  317.0    0.371\n300            Luka Doncic               DAL  14  493.0    0.370",
      "text/html": "<div>\n<style scoped>\n    .dataframe tbody tr th:only-of-type {\n        vertical-align: middle;\n    }\n\n    .dataframe tbody tr th {\n        vertical-align: top;\n    }\n\n    .dataframe thead th {\n        text-align: right;\n    }\n</style>\n<table border=\"1\" class=\"dataframe\">\n  <thead>\n    <tr style=\"text-align: right;\">\n      <th></th>\n      <th>PLAYER_NAME</th>\n      <th>TEAM_ABBREVIATION</th>\n      <th>GP</th>\n      <th>MIN</th>\n      <th>PCT_FTA</th>\n    </tr>\n  </thead>\n  <tbody>\n    <tr>\n      <th>157</th>\n      <td>Giannis Antetokounmpo</td>\n      <td>MIL</td>\n      <td>18</td>\n      <td>586.0</td>\n      <td>0.679</td>\n    </tr>\n    <tr>\n      <th>224</th>\n      <td>Jimmy Butler</td>\n      <td>MIA</td>\n      <td>16</td>\n      <td>546.0</td>\n      <td>0.504</td>\n    </tr>\n    <tr>\n      <th>98</th>\n      <td>DeMar DeRozan</td>\n      <td>CHI</td>\n      <td>20</td>\n      <td>695.0</td>\n      <td>0.495</td>\n    </tr>\n    <tr>\n      <th>348</th>\n      <td>Nikola Jokic</td>\n      <td>DEN</td>\n      <td>14</td>\n      <td>454.0</td>\n      <td>0.484</td>\n    </tr>\n    <tr>\n      <th>26</th>\n      <td>Bam Adebayo</td>\n      <td>MIA</td>\n      <td>16</td>\n      <td>524.0</td>\n      <td>0.461</td>\n    </tr>\n    <tr>\n      <th>389</th>\n      <td>Rudy Gobert</td>\n      <td>UTA</td>\n      <td>18</td>\n      <td>564.0</td>\n      <td>0.442</td>\n    </tr>\n    <tr>\n      <th>202</th>\n      <td>James Harden</td>\n      <td>BKN</td>\n      <td>19</td>\n      <td>665.0</td>\n      <td>0.436</td>\n    </tr>\n    <tr>\n      <th>183</th>\n      <td>Ja Morant</td>\n      <td>MEM</td>\n      <td>19</td>\n      <td>619.0</td>\n      <td>0.429</td>\n    </tr>\n    <tr>\n      <th>284</th>\n      <td>Kristaps Porzingis</td>\n      <td>DAL</td>\n      <td>12</td>\n      <td>365.0</td>\n      <td>0.426</td>\n    </tr>\n    <tr>\n      <th>18</th>\n      <td>Anthony Davis</td>\n      <td>LAL</td>\n      <td>19</td>\n      <td>665.0</td>\n      <td>0.411</td>\n    </tr>\n    <tr>\n      <th>219</th>\n      <td>Jerami Grant</td>\n      <td>DET</td>\n      <td>18</td>\n      <td>588.0</td>\n      <td>0.410</td>\n    </tr>\n    <tr>\n      <th>272</th>\n      <td>Kevin Durant</td>\n      <td>BKN</td>\n      <td>18</td>\n      <td>631.0</td>\n      <td>0.403</td>\n    </tr>\n    <tr>\n      <th>69</th>\n      <td>Cody Zeller</td>\n      <td>POR</td>\n      <td>19</td>\n      <td>241.0</td>\n      <td>0.398</td>\n    </tr>\n    <tr>\n      <th>332</th>\n      <td>Montrezl Harrell</td>\n      <td>WAS</td>\n      <td>19</td>\n      <td>525.0</td>\n      <td>0.398</td>\n    </tr>\n    <tr>\n      <th>432</th>\n      <td>Trae Young</td>\n      <td>ATL</td>\n      <td>20</td>\n      <td>670.0</td>\n      <td>0.397</td>\n    </tr>\n    <tr>\n      <th>341</th>\n      <td>Naz Reid</td>\n      <td>MIN</td>\n      <td>17</td>\n      <td>258.0</td>\n      <td>0.391</td>\n    </tr>\n    <tr>\n      <th>181</th>\n      <td>Ivica Zubac</td>\n      <td>LAC</td>\n      <td>19</td>\n      <td>475.0</td>\n      <td>0.391</td>\n    </tr>\n    <tr>\n      <th>119</th>\n      <td>Domantas Sabonis</td>\n      <td>IND</td>\n      <td>21</td>\n      <td>716.0</td>\n      <td>0.377</td>\n    </tr>\n    <tr>\n      <th>12</th>\n      <td>Alperen Sengun</td>\n      <td>HOU</td>\n      <td>17</td>\n      <td>317.0</td>\n      <td>0.371</td>\n    </tr>\n    <tr>\n      <th>300</th>\n      <td>Luka Doncic</td>\n      <td>DAL</td>\n      <td>14</td>\n      <td>493.0</td>\n      <td>0.370</td>\n    </tr>\n  </tbody>\n</table>\n</div>"
     },
     "execution_count": 25,
     "metadata": {},
     "output_type": "execute_result"
    }
   ],
   "source": [
    "CURR_SEASON_STATS"
   ],
   "metadata": {
    "collapsed": false,
    "pycharm": {
     "name": "#%%\n"
    }
   }
  },
  {
   "cell_type": "code",
   "execution_count": 26,
   "outputs": [],
   "source": [
    "# combine data and begin graphing\n",
    "CURR_SEASON_STATS.rename(columns={'PCT_FTA': 'CURR_FTR'}, inplace=True)\n",
    "CURR_SEASON_STATS.drop(columns=['TEAM_ABBREVIATION', 'GP', 'MIN'], inplace=True)"
   ],
   "metadata": {
    "collapsed": false,
    "pycharm": {
     "name": "#%%\n"
    }
   }
  },
  {
   "cell_type": "code",
   "execution_count": 27,
   "outputs": [],
   "source": [
    "df = CURR_SEASON_STATS.merge(PAST_SEASON_STATS, left_on='PLAYER_NAME', right_on='PLAYER_NAME')\n",
    "df.rename(columns={'PCT_FTA': 'PAST_FTR'}, inplace=True)\n",
    "df['FTR_DIFF'] = df['PAST_FTR'] - df['CURR_FTR']\n",
    "df.drop(columns=['TEAM_ABBREVIATION', 'GP', 'MIN'], inplace=True)\n",
    "df.sort_values(by='FTR_DIFF', ascending=False, inplace=True)"
   ],
   "metadata": {
    "collapsed": false,
    "pycharm": {
     "name": "#%%\n"
    }
   }
  },
  {
   "cell_type": "code",
   "execution_count": 28,
   "outputs": [],
   "source": [
    "# filter FTA dfs\n",
    "CURR_SEASON_FTA = CURR_SEASON_FTA[CURR_SEASON_FTA['PLAYER_NAME'].isin(PLAYERS_LIST)]\n",
    "PAST_SEASON_FTA = PAST_SEASON_FTA[PAST_SEASON_FTA['PLAYER_NAME'].isin(PLAYERS_LIST)]\n",
    "\n",
    "CURR_SEASON_FTA.rename(columns={'FTA': 'CURR_FTA'}, inplace=True)\n",
    "PAST_SEASON_FTA.rename(columns={'FTA': 'PAST_FTA'}, inplace=True)\n",
    "\n",
    "df = df.merge(CURR_SEASON_FTA[['PLAYER_NAME', 'CURR_FTA']], left_on='PLAYER_NAME', right_on='PLAYER_NAME')\n",
    "df = df.merge(PAST_SEASON_FTA[['PLAYER_NAME', 'PAST_FTA']], left_on='PLAYER_NAME', right_on='PLAYER_NAME')\n",
    "\n",
    "df['FTA_DIFF'] = df['PAST_FTA'] - df['CURR_FTA']\n"
   ],
   "metadata": {
    "collapsed": false,
    "pycharm": {
     "name": "#%%\n"
    }
   }
  },
  {
   "cell_type": "code",
   "execution_count": 29,
   "outputs": [
    {
     "data": {
      "text/plain": "              PLAYER_NAME  CURR_FTR  PAST_FTR  FTR_DIFF  CURR_FTA  PAST_FTA  \\\n0              Trae Young     0.397     0.504     0.107       5.9      11.3   \n1             Luka Doncic     0.370     0.452     0.082       5.7       7.9   \n2               Ja Morant     0.429     0.484     0.055       6.5       7.6   \n3            Kevin Durant     0.403     0.453     0.050       6.8       7.9   \n4             Bam Adebayo     0.461     0.490     0.029       7.3       6.8   \n5        Domantas Sabonis     0.377     0.390     0.013       4.5       5.7   \n6           DeMar DeRozan     0.495     0.476    -0.019       7.9       7.4   \n7           Anthony Davis     0.411     0.377    -0.034       6.7       6.3   \n8             Rudy Gobert     0.442     0.408    -0.034       7.5       6.3   \n9            James Harden     0.436     0.401    -0.035       7.1       6.9   \n10           Jerami Grant     0.410     0.343    -0.067       6.3       6.2   \n11  Giannis Antetokounmpo     0.679     0.600    -0.079      11.2      10.8   \n12               Naz Reid     0.391     0.287    -0.104       4.8       4.5   \n13       Montrezl Harrell     0.398     0.282    -0.116       7.0       5.0   \n14           Nikola Jokic     0.484     0.353    -0.131       6.0       5.6   \n15            Ivica Zubac     0.391     0.259    -0.132       5.0       4.6   \n16           Jimmy Butler     0.504     0.358    -0.146       9.2       6.0   \n17            Cody Zeller     0.398     0.224    -0.174       6.4       3.4   \n18     Kristaps Porzingis     0.426     0.235    -0.191       5.4       3.2   \n\n    FTA_DIFF  \n0        5.4  \n1        2.2  \n2        1.1  \n3        1.1  \n4       -0.5  \n5        1.2  \n6       -0.5  \n7       -0.4  \n8       -1.2  \n9       -0.2  \n10      -0.1  \n11      -0.4  \n12      -0.3  \n13      -2.0  \n14      -0.4  \n15      -0.4  \n16      -3.2  \n17      -3.0  \n18      -2.2  ",
      "text/html": "<div>\n<style scoped>\n    .dataframe tbody tr th:only-of-type {\n        vertical-align: middle;\n    }\n\n    .dataframe tbody tr th {\n        vertical-align: top;\n    }\n\n    .dataframe thead th {\n        text-align: right;\n    }\n</style>\n<table border=\"1\" class=\"dataframe\">\n  <thead>\n    <tr style=\"text-align: right;\">\n      <th></th>\n      <th>PLAYER_NAME</th>\n      <th>CURR_FTR</th>\n      <th>PAST_FTR</th>\n      <th>FTR_DIFF</th>\n      <th>CURR_FTA</th>\n      <th>PAST_FTA</th>\n      <th>FTA_DIFF</th>\n    </tr>\n  </thead>\n  <tbody>\n    <tr>\n      <th>0</th>\n      <td>Trae Young</td>\n      <td>0.397</td>\n      <td>0.504</td>\n      <td>0.107</td>\n      <td>5.9</td>\n      <td>11.3</td>\n      <td>5.4</td>\n    </tr>\n    <tr>\n      <th>1</th>\n      <td>Luka Doncic</td>\n      <td>0.370</td>\n      <td>0.452</td>\n      <td>0.082</td>\n      <td>5.7</td>\n      <td>7.9</td>\n      <td>2.2</td>\n    </tr>\n    <tr>\n      <th>2</th>\n      <td>Ja Morant</td>\n      <td>0.429</td>\n      <td>0.484</td>\n      <td>0.055</td>\n      <td>6.5</td>\n      <td>7.6</td>\n      <td>1.1</td>\n    </tr>\n    <tr>\n      <th>3</th>\n      <td>Kevin Durant</td>\n      <td>0.403</td>\n      <td>0.453</td>\n      <td>0.050</td>\n      <td>6.8</td>\n      <td>7.9</td>\n      <td>1.1</td>\n    </tr>\n    <tr>\n      <th>4</th>\n      <td>Bam Adebayo</td>\n      <td>0.461</td>\n      <td>0.490</td>\n      <td>0.029</td>\n      <td>7.3</td>\n      <td>6.8</td>\n      <td>-0.5</td>\n    </tr>\n    <tr>\n      <th>5</th>\n      <td>Domantas Sabonis</td>\n      <td>0.377</td>\n      <td>0.390</td>\n      <td>0.013</td>\n      <td>4.5</td>\n      <td>5.7</td>\n      <td>1.2</td>\n    </tr>\n    <tr>\n      <th>6</th>\n      <td>DeMar DeRozan</td>\n      <td>0.495</td>\n      <td>0.476</td>\n      <td>-0.019</td>\n      <td>7.9</td>\n      <td>7.4</td>\n      <td>-0.5</td>\n    </tr>\n    <tr>\n      <th>7</th>\n      <td>Anthony Davis</td>\n      <td>0.411</td>\n      <td>0.377</td>\n      <td>-0.034</td>\n      <td>6.7</td>\n      <td>6.3</td>\n      <td>-0.4</td>\n    </tr>\n    <tr>\n      <th>8</th>\n      <td>Rudy Gobert</td>\n      <td>0.442</td>\n      <td>0.408</td>\n      <td>-0.034</td>\n      <td>7.5</td>\n      <td>6.3</td>\n      <td>-1.2</td>\n    </tr>\n    <tr>\n      <th>9</th>\n      <td>James Harden</td>\n      <td>0.436</td>\n      <td>0.401</td>\n      <td>-0.035</td>\n      <td>7.1</td>\n      <td>6.9</td>\n      <td>-0.2</td>\n    </tr>\n    <tr>\n      <th>10</th>\n      <td>Jerami Grant</td>\n      <td>0.410</td>\n      <td>0.343</td>\n      <td>-0.067</td>\n      <td>6.3</td>\n      <td>6.2</td>\n      <td>-0.1</td>\n    </tr>\n    <tr>\n      <th>11</th>\n      <td>Giannis Antetokounmpo</td>\n      <td>0.679</td>\n      <td>0.600</td>\n      <td>-0.079</td>\n      <td>11.2</td>\n      <td>10.8</td>\n      <td>-0.4</td>\n    </tr>\n    <tr>\n      <th>12</th>\n      <td>Naz Reid</td>\n      <td>0.391</td>\n      <td>0.287</td>\n      <td>-0.104</td>\n      <td>4.8</td>\n      <td>4.5</td>\n      <td>-0.3</td>\n    </tr>\n    <tr>\n      <th>13</th>\n      <td>Montrezl Harrell</td>\n      <td>0.398</td>\n      <td>0.282</td>\n      <td>-0.116</td>\n      <td>7.0</td>\n      <td>5.0</td>\n      <td>-2.0</td>\n    </tr>\n    <tr>\n      <th>14</th>\n      <td>Nikola Jokic</td>\n      <td>0.484</td>\n      <td>0.353</td>\n      <td>-0.131</td>\n      <td>6.0</td>\n      <td>5.6</td>\n      <td>-0.4</td>\n    </tr>\n    <tr>\n      <th>15</th>\n      <td>Ivica Zubac</td>\n      <td>0.391</td>\n      <td>0.259</td>\n      <td>-0.132</td>\n      <td>5.0</td>\n      <td>4.6</td>\n      <td>-0.4</td>\n    </tr>\n    <tr>\n      <th>16</th>\n      <td>Jimmy Butler</td>\n      <td>0.504</td>\n      <td>0.358</td>\n      <td>-0.146</td>\n      <td>9.2</td>\n      <td>6.0</td>\n      <td>-3.2</td>\n    </tr>\n    <tr>\n      <th>17</th>\n      <td>Cody Zeller</td>\n      <td>0.398</td>\n      <td>0.224</td>\n      <td>-0.174</td>\n      <td>6.4</td>\n      <td>3.4</td>\n      <td>-3.0</td>\n    </tr>\n    <tr>\n      <th>18</th>\n      <td>Kristaps Porzingis</td>\n      <td>0.426</td>\n      <td>0.235</td>\n      <td>-0.191</td>\n      <td>5.4</td>\n      <td>3.2</td>\n      <td>-2.2</td>\n    </tr>\n  </tbody>\n</table>\n</div>"
     },
     "execution_count": 29,
     "metadata": {},
     "output_type": "execute_result"
    }
   ],
   "source": [
    "df"
   ],
   "metadata": {
    "collapsed": false,
    "pycharm": {
     "name": "#%%\n"
    }
   }
  },
  {
   "cell_type": "code",
   "execution_count": 30,
   "outputs": [],
   "source": [
    "df.to_csv('data/nba_ftr_diffs.csv')"
   ],
   "metadata": {
    "collapsed": false,
    "pycharm": {
     "name": "#%%\n"
    }
   }
  }
 ],
 "metadata": {
  "kernelspec": {
   "display_name": "Python 3",
   "language": "python",
   "name": "python3"
  },
  "language_info": {
   "codemirror_mode": {
    "name": "ipython",
    "version": 2
   },
   "file_extension": ".py",
   "mimetype": "text/x-python",
   "name": "python",
   "nbconvert_exporter": "python",
   "pygments_lexer": "ipython2",
   "version": "2.7.6"
  }
 },
 "nbformat": 4,
 "nbformat_minor": 0
}