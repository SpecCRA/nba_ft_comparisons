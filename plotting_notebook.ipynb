{
 "cells": [
  {
   "cell_type": "code",
   "execution_count": 1,
   "metadata": {
    "collapsed": true
   },
   "outputs": [],
   "source": [
    "import pandas as pd\n",
    "import plotly.graph_objs as go\n",
    "import os"
   ]
  },
  {
   "cell_type": "code",
   "execution_count": 2,
   "outputs": [],
   "source": [
    "PATH = 'data/nba_ftr_diffs.csv'\n",
    "FTA_ANIMATION_PATH = 'plots/fta_animation/'\n",
    "df = pd.read_csv(PATH, index_col=0)"
   ],
   "metadata": {
    "collapsed": false,
    "pycharm": {
     "name": "#%%\n"
    }
   }
  },
  {
   "cell_type": "code",
   "execution_count": 3,
   "outputs": [
    {
     "data": {
      "text/plain": "       PLAYER_NAME  CURR_GP  CURR_MIN  CURR_FTR TEAM_ABBREVIATION  PAST_GP  \\\n0    Vlatko Cancar        3      23.0     0.500               DEN        9   \n1  Sekou Doumbouya        2      16.0     0.571               DET       21   \n2       Zeke Nnaji        9     109.0     0.333               DEN       10   \n3       Tacko Fall        7      19.0     0.500               BOS        4   \n4        KZ Okpala       10      63.0     0.348               MIA       13   \n\n   PAST_MIN  PAST_FTR  FTR_DIFF  CURR_FTA  PAST_FTA  FTA_DIFF  \n0      21.0     0.000     0.500       6.3       0.0       6.3  \n1     269.0     0.163     0.408       8.8       2.8       6.0  \n2      23.0     0.000     0.333       4.0       0.0       4.0  \n3      42.0     0.211     0.289       7.4       3.5       3.9  \n4     166.0     0.081     0.267       4.6       1.3       3.3  ",
      "text/html": "<div>\n<style scoped>\n    .dataframe tbody tr th:only-of-type {\n        vertical-align: middle;\n    }\n\n    .dataframe tbody tr th {\n        vertical-align: top;\n    }\n\n    .dataframe thead th {\n        text-align: right;\n    }\n</style>\n<table border=\"1\" class=\"dataframe\">\n  <thead>\n    <tr style=\"text-align: right;\">\n      <th></th>\n      <th>PLAYER_NAME</th>\n      <th>CURR_GP</th>\n      <th>CURR_MIN</th>\n      <th>CURR_FTR</th>\n      <th>TEAM_ABBREVIATION</th>\n      <th>PAST_GP</th>\n      <th>PAST_MIN</th>\n      <th>PAST_FTR</th>\n      <th>FTR_DIFF</th>\n      <th>CURR_FTA</th>\n      <th>PAST_FTA</th>\n      <th>FTA_DIFF</th>\n    </tr>\n  </thead>\n  <tbody>\n    <tr>\n      <th>0</th>\n      <td>Vlatko Cancar</td>\n      <td>3</td>\n      <td>23.0</td>\n      <td>0.500</td>\n      <td>DEN</td>\n      <td>9</td>\n      <td>21.0</td>\n      <td>0.000</td>\n      <td>0.500</td>\n      <td>6.3</td>\n      <td>0.0</td>\n      <td>6.3</td>\n    </tr>\n    <tr>\n      <th>1</th>\n      <td>Sekou Doumbouya</td>\n      <td>2</td>\n      <td>16.0</td>\n      <td>0.571</td>\n      <td>DET</td>\n      <td>21</td>\n      <td>269.0</td>\n      <td>0.163</td>\n      <td>0.408</td>\n      <td>8.8</td>\n      <td>2.8</td>\n      <td>6.0</td>\n    </tr>\n    <tr>\n      <th>2</th>\n      <td>Zeke Nnaji</td>\n      <td>9</td>\n      <td>109.0</td>\n      <td>0.333</td>\n      <td>DEN</td>\n      <td>10</td>\n      <td>23.0</td>\n      <td>0.000</td>\n      <td>0.333</td>\n      <td>4.0</td>\n      <td>0.0</td>\n      <td>4.0</td>\n    </tr>\n    <tr>\n      <th>3</th>\n      <td>Tacko Fall</td>\n      <td>7</td>\n      <td>19.0</td>\n      <td>0.500</td>\n      <td>BOS</td>\n      <td>4</td>\n      <td>42.0</td>\n      <td>0.211</td>\n      <td>0.289</td>\n      <td>7.4</td>\n      <td>3.5</td>\n      <td>3.9</td>\n    </tr>\n    <tr>\n      <th>4</th>\n      <td>KZ Okpala</td>\n      <td>10</td>\n      <td>63.0</td>\n      <td>0.348</td>\n      <td>MIA</td>\n      <td>13</td>\n      <td>166.0</td>\n      <td>0.081</td>\n      <td>0.267</td>\n      <td>4.6</td>\n      <td>1.3</td>\n      <td>3.3</td>\n    </tr>\n  </tbody>\n</table>\n</div>"
     },
     "execution_count": 3,
     "metadata": {},
     "output_type": "execute_result"
    }
   ],
   "source": [
    "#df = df.iloc[:, 1:]\n",
    "df.head()"
   ],
   "metadata": {
    "collapsed": false,
    "pycharm": {
     "name": "#%%\n"
    }
   }
  },
  {
   "cell_type": "code",
   "execution_count": 4,
   "outputs": [
    {
     "data": {
      "text/plain": "                 PLAYER_NAME  CURR_GP  CURR_MIN  CURR_FTR TEAM_ABBREVIATION  \\\n89     Giannis Antetokounmpo       21     686.0     0.667               MIL   \n94               Joel Embiid       13     422.0     0.636               PHI   \n325               Trae Young       23     783.0     0.407               ATL   \n150             Jimmy Butler       17     582.0     0.497               MIA   \n351           Damian Lillard       20     714.0     0.280               POR   \n300              Luka Doncic       17     590.0     0.378               DAL   \n99             DeMar DeRozan       23     808.0     0.492               SAS   \n161              Bam Adebayo       18     592.0     0.448               MIA   \n295  Shai Gilgeous-Alexander       19     663.0     0.366               OKC   \n354           Andre Drummond       22     471.0     0.251               LAL   \n195             Kevin Durant       21     754.0     0.418               BKN   \n344             Bradley Beal       20     712.0     0.280               WAS   \n128              Rudy Gobert       21     660.0     0.440               UTA   \n366            Evan Fournier       22     628.0     0.123               BOS   \n112             James Harden       22     781.0     0.435               BKN   \n\n     PAST_GP  PAST_MIN  PAST_FTR  FTR_DIFF  CURR_FTA  PAST_FTA  FTA_DIFF  \n89        21     690.0     0.610     0.057      11.2      10.7       0.5  \n94        18     574.0     0.585     0.051      10.7      12.6      -1.9  \n325       20     688.0     0.505    -0.098       6.1      10.8      -4.7  \n150       10     307.0     0.481     0.016       9.1       8.7       0.4  \n351       20     721.0     0.456    -0.176       4.5       7.7      -3.2  \n300       22     765.0     0.456    -0.078       5.7       8.0      -2.3  \n99        20     673.0     0.441     0.051       7.8       7.2       0.6  \n161       20     659.0     0.440     0.008       6.8       6.6       0.2  \n295       19     633.0     0.438    -0.072       5.8       6.8      -1.0  \n354       21     622.0     0.434    -0.183       3.6       6.7      -3.1  \n195       18     646.0     0.423    -0.005       7.3       7.9      -0.6  \n344       18     640.0     0.410    -0.130       4.0       8.2      -4.2  \n128       23     682.0     0.407     0.033       7.4       6.4       1.0  \n366       14     398.0     0.395    -0.272       1.7       6.8      -5.1  \n112       18     692.0     0.393     0.042       7.4       7.0       0.4  ",
      "text/html": "<div>\n<style scoped>\n    .dataframe tbody tr th:only-of-type {\n        vertical-align: middle;\n    }\n\n    .dataframe tbody tr th {\n        vertical-align: top;\n    }\n\n    .dataframe thead th {\n        text-align: right;\n    }\n</style>\n<table border=\"1\" class=\"dataframe\">\n  <thead>\n    <tr style=\"text-align: right;\">\n      <th></th>\n      <th>PLAYER_NAME</th>\n      <th>CURR_GP</th>\n      <th>CURR_MIN</th>\n      <th>CURR_FTR</th>\n      <th>TEAM_ABBREVIATION</th>\n      <th>PAST_GP</th>\n      <th>PAST_MIN</th>\n      <th>PAST_FTR</th>\n      <th>FTR_DIFF</th>\n      <th>CURR_FTA</th>\n      <th>PAST_FTA</th>\n      <th>FTA_DIFF</th>\n    </tr>\n  </thead>\n  <tbody>\n    <tr>\n      <th>89</th>\n      <td>Giannis Antetokounmpo</td>\n      <td>21</td>\n      <td>686.0</td>\n      <td>0.667</td>\n      <td>MIL</td>\n      <td>21</td>\n      <td>690.0</td>\n      <td>0.610</td>\n      <td>0.057</td>\n      <td>11.2</td>\n      <td>10.7</td>\n      <td>0.5</td>\n    </tr>\n    <tr>\n      <th>94</th>\n      <td>Joel Embiid</td>\n      <td>13</td>\n      <td>422.0</td>\n      <td>0.636</td>\n      <td>PHI</td>\n      <td>18</td>\n      <td>574.0</td>\n      <td>0.585</td>\n      <td>0.051</td>\n      <td>10.7</td>\n      <td>12.6</td>\n      <td>-1.9</td>\n    </tr>\n    <tr>\n      <th>325</th>\n      <td>Trae Young</td>\n      <td>23</td>\n      <td>783.0</td>\n      <td>0.407</td>\n      <td>ATL</td>\n      <td>20</td>\n      <td>688.0</td>\n      <td>0.505</td>\n      <td>-0.098</td>\n      <td>6.1</td>\n      <td>10.8</td>\n      <td>-4.7</td>\n    </tr>\n    <tr>\n      <th>150</th>\n      <td>Jimmy Butler</td>\n      <td>17</td>\n      <td>582.0</td>\n      <td>0.497</td>\n      <td>MIA</td>\n      <td>10</td>\n      <td>307.0</td>\n      <td>0.481</td>\n      <td>0.016</td>\n      <td>9.1</td>\n      <td>8.7</td>\n      <td>0.4</td>\n    </tr>\n    <tr>\n      <th>351</th>\n      <td>Damian Lillard</td>\n      <td>20</td>\n      <td>714.0</td>\n      <td>0.280</td>\n      <td>POR</td>\n      <td>20</td>\n      <td>721.0</td>\n      <td>0.456</td>\n      <td>-0.176</td>\n      <td>4.5</td>\n      <td>7.7</td>\n      <td>-3.2</td>\n    </tr>\n    <tr>\n      <th>300</th>\n      <td>Luka Doncic</td>\n      <td>17</td>\n      <td>590.0</td>\n      <td>0.378</td>\n      <td>DAL</td>\n      <td>22</td>\n      <td>765.0</td>\n      <td>0.456</td>\n      <td>-0.078</td>\n      <td>5.7</td>\n      <td>8.0</td>\n      <td>-2.3</td>\n    </tr>\n    <tr>\n      <th>99</th>\n      <td>DeMar DeRozan</td>\n      <td>23</td>\n      <td>808.0</td>\n      <td>0.492</td>\n      <td>SAS</td>\n      <td>20</td>\n      <td>673.0</td>\n      <td>0.441</td>\n      <td>0.051</td>\n      <td>7.8</td>\n      <td>7.2</td>\n      <td>0.6</td>\n    </tr>\n    <tr>\n      <th>161</th>\n      <td>Bam Adebayo</td>\n      <td>18</td>\n      <td>592.0</td>\n      <td>0.448</td>\n      <td>MIA</td>\n      <td>20</td>\n      <td>659.0</td>\n      <td>0.440</td>\n      <td>0.008</td>\n      <td>6.8</td>\n      <td>6.6</td>\n      <td>0.2</td>\n    </tr>\n    <tr>\n      <th>295</th>\n      <td>Shai Gilgeous-Alexander</td>\n      <td>19</td>\n      <td>663.0</td>\n      <td>0.366</td>\n      <td>OKC</td>\n      <td>19</td>\n      <td>633.0</td>\n      <td>0.438</td>\n      <td>-0.072</td>\n      <td>5.8</td>\n      <td>6.8</td>\n      <td>-1.0</td>\n    </tr>\n    <tr>\n      <th>354</th>\n      <td>Andre Drummond</td>\n      <td>22</td>\n      <td>471.0</td>\n      <td>0.251</td>\n      <td>LAL</td>\n      <td>21</td>\n      <td>622.0</td>\n      <td>0.434</td>\n      <td>-0.183</td>\n      <td>3.6</td>\n      <td>6.7</td>\n      <td>-3.1</td>\n    </tr>\n    <tr>\n      <th>195</th>\n      <td>Kevin Durant</td>\n      <td>21</td>\n      <td>754.0</td>\n      <td>0.418</td>\n      <td>BKN</td>\n      <td>18</td>\n      <td>646.0</td>\n      <td>0.423</td>\n      <td>-0.005</td>\n      <td>7.3</td>\n      <td>7.9</td>\n      <td>-0.6</td>\n    </tr>\n    <tr>\n      <th>344</th>\n      <td>Bradley Beal</td>\n      <td>20</td>\n      <td>712.0</td>\n      <td>0.280</td>\n      <td>WAS</td>\n      <td>18</td>\n      <td>640.0</td>\n      <td>0.410</td>\n      <td>-0.130</td>\n      <td>4.0</td>\n      <td>8.2</td>\n      <td>-4.2</td>\n    </tr>\n    <tr>\n      <th>128</th>\n      <td>Rudy Gobert</td>\n      <td>21</td>\n      <td>660.0</td>\n      <td>0.440</td>\n      <td>UTA</td>\n      <td>23</td>\n      <td>682.0</td>\n      <td>0.407</td>\n      <td>0.033</td>\n      <td>7.4</td>\n      <td>6.4</td>\n      <td>1.0</td>\n    </tr>\n    <tr>\n      <th>366</th>\n      <td>Evan Fournier</td>\n      <td>22</td>\n      <td>628.0</td>\n      <td>0.123</td>\n      <td>BOS</td>\n      <td>14</td>\n      <td>398.0</td>\n      <td>0.395</td>\n      <td>-0.272</td>\n      <td>1.7</td>\n      <td>6.8</td>\n      <td>-5.1</td>\n    </tr>\n    <tr>\n      <th>112</th>\n      <td>James Harden</td>\n      <td>22</td>\n      <td>781.0</td>\n      <td>0.435</td>\n      <td>BKN</td>\n      <td>18</td>\n      <td>692.0</td>\n      <td>0.393</td>\n      <td>0.042</td>\n      <td>7.4</td>\n      <td>7.0</td>\n      <td>0.4</td>\n    </tr>\n  </tbody>\n</table>\n</div>"
     },
     "execution_count": 4,
     "metadata": {},
     "output_type": "execute_result"
    }
   ],
   "source": [
    "TOP15_DF = df[\n",
    "               (df['CURR_GP'] >= 10) &\n",
    "               (df['CURR_MIN'] >= 240) &\n",
    "               (df['PAST_MIN'] >= 240) &\n",
    "               (df['PAST_GP'] >= 10)\n",
    "           ].sort_values(by='PAST_FTR', ascending=False).iloc[:15]\n",
    "\n",
    "# sort back to highest FTR first\n",
    "TOP15_DF.sort_values(by='PAST_FTR', ascending=False, inplace=True)\n",
    "TOP15_DF"
   ],
   "metadata": {
    "collapsed": false,
    "pycharm": {
     "name": "#%%\n"
    }
   }
  },
  {
   "cell_type": "code",
   "execution_count": 5,
   "outputs": [],
   "source": [
    "N_FRAMES = 10\n",
    "FIRST_FRAMES = N_FRAMES * 0.3\n",
    "LAST_FRAMES = N_FRAMES - FIRST_FRAMES\n",
    "N_TRANSITION_FRAMES = N_FRAMES - 2 * (FIRST_FRAMES)"
   ],
   "metadata": {
    "collapsed": false,
    "pycharm": {
     "name": "#%%\n"
    }
   }
  },
  {
   "cell_type": "code",
   "execution_count": 75,
   "outputs": [
    {
     "name": "stdout",
     "output_type": "stream",
     "text": [
      "1.0\n",
      "0.8\n",
      "2.0\n",
      "0.6\n",
      "3.0\n",
      "0.4\n",
      "4.0\n",
      "0.19999999999999996\n"
     ]
    }
   ],
   "source": [
    "# Create opacities for each frame\n",
    "OPACITIES = list()\n",
    "\n",
    "# Create dot opacities for first plot\n",
    "for i in range(1, N_FRAMES+1):\n",
    "    if i <= FIRST_FRAMES:\n",
    "        OPACITIES.append(1)\n",
    "    elif (i > FIRST_FRAMES) & (i <= LAST_FRAMES):\n",
    "        transition_n = i - FIRST_FRAMES\n",
    "        print(transition_n)\n",
    "        frame_opacity = 1 - (transition_n/(N_TRANSITION_FRAMES+1))\n",
    "        print(frame_opacity)\n",
    "        OPACITIES.append(frame_opacity)\n",
    "    else:\n",
    "        OPACITIES.append(0)"
   ],
   "metadata": {
    "collapsed": false,
    "pycharm": {
     "name": "#%%\n"
    }
   }
  },
  {
   "cell_type": "code",
   "execution_count": 73,
   "outputs": [
    {
     "data": {
      "text/plain": "[1, 1, 1, 0.8, 0.6, 0.4, 0.19999999999999996, 0, 0, 0]"
     },
     "execution_count": 73,
     "metadata": {},
     "output_type": "execute_result"
    }
   ],
   "source": [
    "OPACITIES"
   ],
   "metadata": {
    "collapsed": false,
    "pycharm": {
     "name": "#%%\n"
    }
   }
  },
  {
   "cell_type": "code",
   "execution_count": 33,
   "outputs": [
    {
     "data": {
      "application/vnd.plotly.v1+json": {
       "data": [
        {
         "marker": {
          "color": "#d4d4d4",
          "opacity": 0.5,
          "size": 18
         },
         "mode": "markers",
         "x": [
          0.61,
          0.585,
          0.505,
          0.481,
          0.456,
          0.456,
          0.441,
          0.44,
          0.438,
          0.434,
          0.423,
          0.41,
          0.407,
          0.395,
          0.393
         ],
         "y": [
          "Giannis Antetokounmpo",
          "Joel Embiid",
          "Trae Young",
          "Jimmy Butler",
          "Damian Lillard",
          "Luka Doncic",
          "DeMar DeRozan",
          "Bam Adebayo",
          "Shai Gilgeous-Alexander",
          "Andre Drummond",
          "Kevin Durant",
          "Bradley Beal",
          "Rudy Gobert",
          "Evan Fournier",
          "James Harden"
         ],
         "type": "scatter"
        },
        {
         "marker": {
          "opacity": 0.8,
          "size": 18
         },
         "mode": "markers",
         "x": [
          0.667,
          0.636,
          0.407,
          0.497,
          0.28,
          0.378,
          0.492,
          0.448,
          0.366,
          0.251,
          0.418,
          0.28,
          0.44,
          0.123,
          0.435
         ],
         "y": [
          "Giannis Antetokounmpo",
          "Joel Embiid",
          "Trae Young",
          "Jimmy Butler",
          "Damian Lillard",
          "Luka Doncic",
          "DeMar DeRozan",
          "Bam Adebayo",
          "Shai Gilgeous-Alexander",
          "Andre Drummond",
          "Kevin Durant",
          "Bradley Beal",
          "Rudy Gobert",
          "Evan Fournier",
          "James Harden"
         ],
         "type": "scatter"
        }
       ],
       "layout": {
        "template": {
         "data": {
          "bar": [
           {
            "error_x": {
             "color": "#2a3f5f"
            },
            "error_y": {
             "color": "#2a3f5f"
            },
            "marker": {
             "line": {
              "color": "#E5ECF6",
              "width": 0.5
             },
             "pattern": {
              "fillmode": "overlay",
              "size": 10,
              "solidity": 0.2
             }
            },
            "type": "bar"
           }
          ],
          "barpolar": [
           {
            "marker": {
             "line": {
              "color": "#E5ECF6",
              "width": 0.5
             },
             "pattern": {
              "fillmode": "overlay",
              "size": 10,
              "solidity": 0.2
             }
            },
            "type": "barpolar"
           }
          ],
          "carpet": [
           {
            "aaxis": {
             "endlinecolor": "#2a3f5f",
             "gridcolor": "white",
             "linecolor": "white",
             "minorgridcolor": "white",
             "startlinecolor": "#2a3f5f"
            },
            "baxis": {
             "endlinecolor": "#2a3f5f",
             "gridcolor": "white",
             "linecolor": "white",
             "minorgridcolor": "white",
             "startlinecolor": "#2a3f5f"
            },
            "type": "carpet"
           }
          ],
          "choropleth": [
           {
            "colorbar": {
             "outlinewidth": 0,
             "ticks": ""
            },
            "type": "choropleth"
           }
          ],
          "contour": [
           {
            "colorbar": {
             "outlinewidth": 0,
             "ticks": ""
            },
            "colorscale": [
             [
              0.0,
              "#0d0887"
             ],
             [
              0.1111111111111111,
              "#46039f"
             ],
             [
              0.2222222222222222,
              "#7201a8"
             ],
             [
              0.3333333333333333,
              "#9c179e"
             ],
             [
              0.4444444444444444,
              "#bd3786"
             ],
             [
              0.5555555555555556,
              "#d8576b"
             ],
             [
              0.6666666666666666,
              "#ed7953"
             ],
             [
              0.7777777777777778,
              "#fb9f3a"
             ],
             [
              0.8888888888888888,
              "#fdca26"
             ],
             [
              1.0,
              "#f0f921"
             ]
            ],
            "type": "contour"
           }
          ],
          "contourcarpet": [
           {
            "colorbar": {
             "outlinewidth": 0,
             "ticks": ""
            },
            "type": "contourcarpet"
           }
          ],
          "heatmap": [
           {
            "colorbar": {
             "outlinewidth": 0,
             "ticks": ""
            },
            "colorscale": [
             [
              0.0,
              "#0d0887"
             ],
             [
              0.1111111111111111,
              "#46039f"
             ],
             [
              0.2222222222222222,
              "#7201a8"
             ],
             [
              0.3333333333333333,
              "#9c179e"
             ],
             [
              0.4444444444444444,
              "#bd3786"
             ],
             [
              0.5555555555555556,
              "#d8576b"
             ],
             [
              0.6666666666666666,
              "#ed7953"
             ],
             [
              0.7777777777777778,
              "#fb9f3a"
             ],
             [
              0.8888888888888888,
              "#fdca26"
             ],
             [
              1.0,
              "#f0f921"
             ]
            ],
            "type": "heatmap"
           }
          ],
          "heatmapgl": [
           {
            "colorbar": {
             "outlinewidth": 0,
             "ticks": ""
            },
            "colorscale": [
             [
              0.0,
              "#0d0887"
             ],
             [
              0.1111111111111111,
              "#46039f"
             ],
             [
              0.2222222222222222,
              "#7201a8"
             ],
             [
              0.3333333333333333,
              "#9c179e"
             ],
             [
              0.4444444444444444,
              "#bd3786"
             ],
             [
              0.5555555555555556,
              "#d8576b"
             ],
             [
              0.6666666666666666,
              "#ed7953"
             ],
             [
              0.7777777777777778,
              "#fb9f3a"
             ],
             [
              0.8888888888888888,
              "#fdca26"
             ],
             [
              1.0,
              "#f0f921"
             ]
            ],
            "type": "heatmapgl"
           }
          ],
          "histogram": [
           {
            "marker": {
             "pattern": {
              "fillmode": "overlay",
              "size": 10,
              "solidity": 0.2
             }
            },
            "type": "histogram"
           }
          ],
          "histogram2d": [
           {
            "colorbar": {
             "outlinewidth": 0,
             "ticks": ""
            },
            "colorscale": [
             [
              0.0,
              "#0d0887"
             ],
             [
              0.1111111111111111,
              "#46039f"
             ],
             [
              0.2222222222222222,
              "#7201a8"
             ],
             [
              0.3333333333333333,
              "#9c179e"
             ],
             [
              0.4444444444444444,
              "#bd3786"
             ],
             [
              0.5555555555555556,
              "#d8576b"
             ],
             [
              0.6666666666666666,
              "#ed7953"
             ],
             [
              0.7777777777777778,
              "#fb9f3a"
             ],
             [
              0.8888888888888888,
              "#fdca26"
             ],
             [
              1.0,
              "#f0f921"
             ]
            ],
            "type": "histogram2d"
           }
          ],
          "histogram2dcontour": [
           {
            "colorbar": {
             "outlinewidth": 0,
             "ticks": ""
            },
            "colorscale": [
             [
              0.0,
              "#0d0887"
             ],
             [
              0.1111111111111111,
              "#46039f"
             ],
             [
              0.2222222222222222,
              "#7201a8"
             ],
             [
              0.3333333333333333,
              "#9c179e"
             ],
             [
              0.4444444444444444,
              "#bd3786"
             ],
             [
              0.5555555555555556,
              "#d8576b"
             ],
             [
              0.6666666666666666,
              "#ed7953"
             ],
             [
              0.7777777777777778,
              "#fb9f3a"
             ],
             [
              0.8888888888888888,
              "#fdca26"
             ],
             [
              1.0,
              "#f0f921"
             ]
            ],
            "type": "histogram2dcontour"
           }
          ],
          "mesh3d": [
           {
            "colorbar": {
             "outlinewidth": 0,
             "ticks": ""
            },
            "type": "mesh3d"
           }
          ],
          "parcoords": [
           {
            "line": {
             "colorbar": {
              "outlinewidth": 0,
              "ticks": ""
             }
            },
            "type": "parcoords"
           }
          ],
          "pie": [
           {
            "automargin": true,
            "type": "pie"
           }
          ],
          "scatter": [
           {
            "marker": {
             "colorbar": {
              "outlinewidth": 0,
              "ticks": ""
             }
            },
            "type": "scatter"
           }
          ],
          "scatter3d": [
           {
            "line": {
             "colorbar": {
              "outlinewidth": 0,
              "ticks": ""
             }
            },
            "marker": {
             "colorbar": {
              "outlinewidth": 0,
              "ticks": ""
             }
            },
            "type": "scatter3d"
           }
          ],
          "scattercarpet": [
           {
            "marker": {
             "colorbar": {
              "outlinewidth": 0,
              "ticks": ""
             }
            },
            "type": "scattercarpet"
           }
          ],
          "scattergeo": [
           {
            "marker": {
             "colorbar": {
              "outlinewidth": 0,
              "ticks": ""
             }
            },
            "type": "scattergeo"
           }
          ],
          "scattergl": [
           {
            "marker": {
             "colorbar": {
              "outlinewidth": 0,
              "ticks": ""
             }
            },
            "type": "scattergl"
           }
          ],
          "scattermapbox": [
           {
            "marker": {
             "colorbar": {
              "outlinewidth": 0,
              "ticks": ""
             }
            },
            "type": "scattermapbox"
           }
          ],
          "scatterpolar": [
           {
            "marker": {
             "colorbar": {
              "outlinewidth": 0,
              "ticks": ""
             }
            },
            "type": "scatterpolar"
           }
          ],
          "scatterpolargl": [
           {
            "marker": {
             "colorbar": {
              "outlinewidth": 0,
              "ticks": ""
             }
            },
            "type": "scatterpolargl"
           }
          ],
          "scatterternary": [
           {
            "marker": {
             "colorbar": {
              "outlinewidth": 0,
              "ticks": ""
             }
            },
            "type": "scatterternary"
           }
          ],
          "surface": [
           {
            "colorbar": {
             "outlinewidth": 0,
             "ticks": ""
            },
            "colorscale": [
             [
              0.0,
              "#0d0887"
             ],
             [
              0.1111111111111111,
              "#46039f"
             ],
             [
              0.2222222222222222,
              "#7201a8"
             ],
             [
              0.3333333333333333,
              "#9c179e"
             ],
             [
              0.4444444444444444,
              "#bd3786"
             ],
             [
              0.5555555555555556,
              "#d8576b"
             ],
             [
              0.6666666666666666,
              "#ed7953"
             ],
             [
              0.7777777777777778,
              "#fb9f3a"
             ],
             [
              0.8888888888888888,
              "#fdca26"
             ],
             [
              1.0,
              "#f0f921"
             ]
            ],
            "type": "surface"
           }
          ],
          "table": [
           {
            "cells": {
             "fill": {
              "color": "#EBF0F8"
             },
             "line": {
              "color": "white"
             }
            },
            "header": {
             "fill": {
              "color": "#C8D4E3"
             },
             "line": {
              "color": "white"
             }
            },
            "type": "table"
           }
          ]
         },
         "layout": {
          "annotationdefaults": {
           "arrowcolor": "#2a3f5f",
           "arrowhead": 0,
           "arrowwidth": 1
          },
          "autotypenumbers": "strict",
          "coloraxis": {
           "colorbar": {
            "outlinewidth": 0,
            "ticks": ""
           }
          },
          "colorscale": {
           "diverging": [
            [
             0,
             "#8e0152"
            ],
            [
             0.1,
             "#c51b7d"
            ],
            [
             0.2,
             "#de77ae"
            ],
            [
             0.3,
             "#f1b6da"
            ],
            [
             0.4,
             "#fde0ef"
            ],
            [
             0.5,
             "#f7f7f7"
            ],
            [
             0.6,
             "#e6f5d0"
            ],
            [
             0.7,
             "#b8e186"
            ],
            [
             0.8,
             "#7fbc41"
            ],
            [
             0.9,
             "#4d9221"
            ],
            [
             1,
             "#276419"
            ]
           ],
           "sequential": [
            [
             0.0,
             "#0d0887"
            ],
            [
             0.1111111111111111,
             "#46039f"
            ],
            [
             0.2222222222222222,
             "#7201a8"
            ],
            [
             0.3333333333333333,
             "#9c179e"
            ],
            [
             0.4444444444444444,
             "#bd3786"
            ],
            [
             0.5555555555555556,
             "#d8576b"
            ],
            [
             0.6666666666666666,
             "#ed7953"
            ],
            [
             0.7777777777777778,
             "#fb9f3a"
            ],
            [
             0.8888888888888888,
             "#fdca26"
            ],
            [
             1.0,
             "#f0f921"
            ]
           ],
           "sequentialminus": [
            [
             0.0,
             "#0d0887"
            ],
            [
             0.1111111111111111,
             "#46039f"
            ],
            [
             0.2222222222222222,
             "#7201a8"
            ],
            [
             0.3333333333333333,
             "#9c179e"
            ],
            [
             0.4444444444444444,
             "#bd3786"
            ],
            [
             0.5555555555555556,
             "#d8576b"
            ],
            [
             0.6666666666666666,
             "#ed7953"
            ],
            [
             0.7777777777777778,
             "#fb9f3a"
            ],
            [
             0.8888888888888888,
             "#fdca26"
            ],
            [
             1.0,
             "#f0f921"
            ]
           ]
          },
          "colorway": [
           "#636efa",
           "#EF553B",
           "#00cc96",
           "#ab63fa",
           "#FFA15A",
           "#19d3f3",
           "#FF6692",
           "#B6E880",
           "#FF97FF",
           "#FECB52"
          ],
          "font": {
           "color": "#2a3f5f"
          },
          "geo": {
           "bgcolor": "white",
           "lakecolor": "white",
           "landcolor": "#E5ECF6",
           "showlakes": true,
           "showland": true,
           "subunitcolor": "white"
          },
          "hoverlabel": {
           "align": "left"
          },
          "hovermode": "closest",
          "mapbox": {
           "style": "light"
          },
          "paper_bgcolor": "white",
          "plot_bgcolor": "#E5ECF6",
          "polar": {
           "angularaxis": {
            "gridcolor": "white",
            "linecolor": "white",
            "ticks": ""
           },
           "bgcolor": "#E5ECF6",
           "radialaxis": {
            "gridcolor": "white",
            "linecolor": "white",
            "ticks": ""
           }
          },
          "scene": {
           "xaxis": {
            "backgroundcolor": "#E5ECF6",
            "gridcolor": "white",
            "gridwidth": 2,
            "linecolor": "white",
            "showbackground": true,
            "ticks": "",
            "zerolinecolor": "white"
           },
           "yaxis": {
            "backgroundcolor": "#E5ECF6",
            "gridcolor": "white",
            "gridwidth": 2,
            "linecolor": "white",
            "showbackground": true,
            "ticks": "",
            "zerolinecolor": "white"
           },
           "zaxis": {
            "backgroundcolor": "#E5ECF6",
            "gridcolor": "white",
            "gridwidth": 2,
            "linecolor": "white",
            "showbackground": true,
            "ticks": "",
            "zerolinecolor": "white"
           }
          },
          "shapedefaults": {
           "line": {
            "color": "#2a3f5f"
           }
          },
          "ternary": {
           "aaxis": {
            "gridcolor": "white",
            "linecolor": "white",
            "ticks": ""
           },
           "baxis": {
            "gridcolor": "white",
            "linecolor": "white",
            "ticks": ""
           },
           "bgcolor": "#E5ECF6",
           "caxis": {
            "gridcolor": "white",
            "linecolor": "white",
            "ticks": ""
           }
          },
          "title": {
           "x": 0.05
          },
          "xaxis": {
           "automargin": true,
           "gridcolor": "white",
           "linecolor": "white",
           "ticks": "",
           "title": {
            "standoff": 15
           },
           "zerolinecolor": "white",
           "zerolinewidth": 2
          },
          "yaxis": {
           "automargin": true,
           "gridcolor": "white",
           "linecolor": "white",
           "ticks": "",
           "title": {
            "standoff": 15
           },
           "zerolinecolor": "white",
           "zerolinewidth": 2
          }
         }
        },
        "margin": {
         "t": 50,
         "b": 50,
         "r": 10,
         "l": 50,
         "pad": 0
        },
        "xaxis": {
         "domain": [
          0.2,
          0.8
         ],
         "showgrid": false
        },
        "yaxis": {
         "categoryorder": "total ascending",
         "anchor": "free",
         "position": 0.05,
         "side": "right",
         "gridcolor": "#fafafa"
        },
        "font": {
         "size": 15
        },
        "title": {
         "font": {
          "size": 28
         },
         "text": "NBA FT rate in the first 30 games of the 2020-21 and 2021-22 seasons",
         "x": 0.2,
         "y": 0.96
        },
        "height": 800,
        "width": 1000,
        "plot_bgcolor": "white",
        "paper_bgcolor": "white",
        "showlegend": false
       },
       "config": {
        "plotlyServerURL": "https://plot.ly"
       }
      },
      "text/html": "<div>                            <div id=\"56896755-d7f3-4a5e-a1b6-453527062cb6\" class=\"plotly-graph-div\" style=\"height:800px; width:1000px;\"></div>            <script type=\"text/javascript\">                require([\"plotly\"], function(Plotly) {                    window.PLOTLYENV=window.PLOTLYENV || {};                                    if (document.getElementById(\"56896755-d7f3-4a5e-a1b6-453527062cb6\")) {                    Plotly.newPlot(                        \"56896755-d7f3-4a5e-a1b6-453527062cb6\",                        [{\"marker\":{\"color\":\"#d4d4d4\",\"opacity\":0.5,\"size\":18},\"mode\":\"markers\",\"x\":[0.61,0.585,0.505,0.481,0.456,0.456,0.441,0.44,0.438,0.434,0.423,0.41,0.407,0.395,0.393],\"y\":[\"Giannis Antetokounmpo\",\"Joel Embiid\",\"Trae Young\",\"Jimmy Butler\",\"Damian Lillard\",\"Luka Doncic\",\"DeMar DeRozan\",\"Bam Adebayo\",\"Shai Gilgeous-Alexander\",\"Andre Drummond\",\"Kevin Durant\",\"Bradley Beal\",\"Rudy Gobert\",\"Evan Fournier\",\"James Harden\"],\"type\":\"scatter\"},{\"marker\":{\"opacity\":0.8,\"size\":18},\"mode\":\"markers\",\"x\":[0.667,0.636,0.407,0.497,0.28,0.378,0.492,0.448,0.366,0.251,0.418,0.28,0.44,0.123,0.435],\"y\":[\"Giannis Antetokounmpo\",\"Joel Embiid\",\"Trae Young\",\"Jimmy Butler\",\"Damian Lillard\",\"Luka Doncic\",\"DeMar DeRozan\",\"Bam Adebayo\",\"Shai Gilgeous-Alexander\",\"Andre Drummond\",\"Kevin Durant\",\"Bradley Beal\",\"Rudy Gobert\",\"Evan Fournier\",\"James Harden\"],\"type\":\"scatter\"}],                        {\"template\":{\"data\":{\"bar\":[{\"error_x\":{\"color\":\"#2a3f5f\"},\"error_y\":{\"color\":\"#2a3f5f\"},\"marker\":{\"line\":{\"color\":\"#E5ECF6\",\"width\":0.5},\"pattern\":{\"fillmode\":\"overlay\",\"size\":10,\"solidity\":0.2}},\"type\":\"bar\"}],\"barpolar\":[{\"marker\":{\"line\":{\"color\":\"#E5ECF6\",\"width\":0.5},\"pattern\":{\"fillmode\":\"overlay\",\"size\":10,\"solidity\":0.2}},\"type\":\"barpolar\"}],\"carpet\":[{\"aaxis\":{\"endlinecolor\":\"#2a3f5f\",\"gridcolor\":\"white\",\"linecolor\":\"white\",\"minorgridcolor\":\"white\",\"startlinecolor\":\"#2a3f5f\"},\"baxis\":{\"endlinecolor\":\"#2a3f5f\",\"gridcolor\":\"white\",\"linecolor\":\"white\",\"minorgridcolor\":\"white\",\"startlinecolor\":\"#2a3f5f\"},\"type\":\"carpet\"}],\"choropleth\":[{\"colorbar\":{\"outlinewidth\":0,\"ticks\":\"\"},\"type\":\"choropleth\"}],\"contour\":[{\"colorbar\":{\"outlinewidth\":0,\"ticks\":\"\"},\"colorscale\":[[0.0,\"#0d0887\"],[0.1111111111111111,\"#46039f\"],[0.2222222222222222,\"#7201a8\"],[0.3333333333333333,\"#9c179e\"],[0.4444444444444444,\"#bd3786\"],[0.5555555555555556,\"#d8576b\"],[0.6666666666666666,\"#ed7953\"],[0.7777777777777778,\"#fb9f3a\"],[0.8888888888888888,\"#fdca26\"],[1.0,\"#f0f921\"]],\"type\":\"contour\"}],\"contourcarpet\":[{\"colorbar\":{\"outlinewidth\":0,\"ticks\":\"\"},\"type\":\"contourcarpet\"}],\"heatmap\":[{\"colorbar\":{\"outlinewidth\":0,\"ticks\":\"\"},\"colorscale\":[[0.0,\"#0d0887\"],[0.1111111111111111,\"#46039f\"],[0.2222222222222222,\"#7201a8\"],[0.3333333333333333,\"#9c179e\"],[0.4444444444444444,\"#bd3786\"],[0.5555555555555556,\"#d8576b\"],[0.6666666666666666,\"#ed7953\"],[0.7777777777777778,\"#fb9f3a\"],[0.8888888888888888,\"#fdca26\"],[1.0,\"#f0f921\"]],\"type\":\"heatmap\"}],\"heatmapgl\":[{\"colorbar\":{\"outlinewidth\":0,\"ticks\":\"\"},\"colorscale\":[[0.0,\"#0d0887\"],[0.1111111111111111,\"#46039f\"],[0.2222222222222222,\"#7201a8\"],[0.3333333333333333,\"#9c179e\"],[0.4444444444444444,\"#bd3786\"],[0.5555555555555556,\"#d8576b\"],[0.6666666666666666,\"#ed7953\"],[0.7777777777777778,\"#fb9f3a\"],[0.8888888888888888,\"#fdca26\"],[1.0,\"#f0f921\"]],\"type\":\"heatmapgl\"}],\"histogram\":[{\"marker\":{\"pattern\":{\"fillmode\":\"overlay\",\"size\":10,\"solidity\":0.2}},\"type\":\"histogram\"}],\"histogram2d\":[{\"colorbar\":{\"outlinewidth\":0,\"ticks\":\"\"},\"colorscale\":[[0.0,\"#0d0887\"],[0.1111111111111111,\"#46039f\"],[0.2222222222222222,\"#7201a8\"],[0.3333333333333333,\"#9c179e\"],[0.4444444444444444,\"#bd3786\"],[0.5555555555555556,\"#d8576b\"],[0.6666666666666666,\"#ed7953\"],[0.7777777777777778,\"#fb9f3a\"],[0.8888888888888888,\"#fdca26\"],[1.0,\"#f0f921\"]],\"type\":\"histogram2d\"}],\"histogram2dcontour\":[{\"colorbar\":{\"outlinewidth\":0,\"ticks\":\"\"},\"colorscale\":[[0.0,\"#0d0887\"],[0.1111111111111111,\"#46039f\"],[0.2222222222222222,\"#7201a8\"],[0.3333333333333333,\"#9c179e\"],[0.4444444444444444,\"#bd3786\"],[0.5555555555555556,\"#d8576b\"],[0.6666666666666666,\"#ed7953\"],[0.7777777777777778,\"#fb9f3a\"],[0.8888888888888888,\"#fdca26\"],[1.0,\"#f0f921\"]],\"type\":\"histogram2dcontour\"}],\"mesh3d\":[{\"colorbar\":{\"outlinewidth\":0,\"ticks\":\"\"},\"type\":\"mesh3d\"}],\"parcoords\":[{\"line\":{\"colorbar\":{\"outlinewidth\":0,\"ticks\":\"\"}},\"type\":\"parcoords\"}],\"pie\":[{\"automargin\":true,\"type\":\"pie\"}],\"scatter\":[{\"marker\":{\"colorbar\":{\"outlinewidth\":0,\"ticks\":\"\"}},\"type\":\"scatter\"}],\"scatter3d\":[{\"line\":{\"colorbar\":{\"outlinewidth\":0,\"ticks\":\"\"}},\"marker\":{\"colorbar\":{\"outlinewidth\":0,\"ticks\":\"\"}},\"type\":\"scatter3d\"}],\"scattercarpet\":[{\"marker\":{\"colorbar\":{\"outlinewidth\":0,\"ticks\":\"\"}},\"type\":\"scattercarpet\"}],\"scattergeo\":[{\"marker\":{\"colorbar\":{\"outlinewidth\":0,\"ticks\":\"\"}},\"type\":\"scattergeo\"}],\"scattergl\":[{\"marker\":{\"colorbar\":{\"outlinewidth\":0,\"ticks\":\"\"}},\"type\":\"scattergl\"}],\"scattermapbox\":[{\"marker\":{\"colorbar\":{\"outlinewidth\":0,\"ticks\":\"\"}},\"type\":\"scattermapbox\"}],\"scatterpolar\":[{\"marker\":{\"colorbar\":{\"outlinewidth\":0,\"ticks\":\"\"}},\"type\":\"scatterpolar\"}],\"scatterpolargl\":[{\"marker\":{\"colorbar\":{\"outlinewidth\":0,\"ticks\":\"\"}},\"type\":\"scatterpolargl\"}],\"scatterternary\":[{\"marker\":{\"colorbar\":{\"outlinewidth\":0,\"ticks\":\"\"}},\"type\":\"scatterternary\"}],\"surface\":[{\"colorbar\":{\"outlinewidth\":0,\"ticks\":\"\"},\"colorscale\":[[0.0,\"#0d0887\"],[0.1111111111111111,\"#46039f\"],[0.2222222222222222,\"#7201a8\"],[0.3333333333333333,\"#9c179e\"],[0.4444444444444444,\"#bd3786\"],[0.5555555555555556,\"#d8576b\"],[0.6666666666666666,\"#ed7953\"],[0.7777777777777778,\"#fb9f3a\"],[0.8888888888888888,\"#fdca26\"],[1.0,\"#f0f921\"]],\"type\":\"surface\"}],\"table\":[{\"cells\":{\"fill\":{\"color\":\"#EBF0F8\"},\"line\":{\"color\":\"white\"}},\"header\":{\"fill\":{\"color\":\"#C8D4E3\"},\"line\":{\"color\":\"white\"}},\"type\":\"table\"}]},\"layout\":{\"annotationdefaults\":{\"arrowcolor\":\"#2a3f5f\",\"arrowhead\":0,\"arrowwidth\":1},\"autotypenumbers\":\"strict\",\"coloraxis\":{\"colorbar\":{\"outlinewidth\":0,\"ticks\":\"\"}},\"colorscale\":{\"diverging\":[[0,\"#8e0152\"],[0.1,\"#c51b7d\"],[0.2,\"#de77ae\"],[0.3,\"#f1b6da\"],[0.4,\"#fde0ef\"],[0.5,\"#f7f7f7\"],[0.6,\"#e6f5d0\"],[0.7,\"#b8e186\"],[0.8,\"#7fbc41\"],[0.9,\"#4d9221\"],[1,\"#276419\"]],\"sequential\":[[0.0,\"#0d0887\"],[0.1111111111111111,\"#46039f\"],[0.2222222222222222,\"#7201a8\"],[0.3333333333333333,\"#9c179e\"],[0.4444444444444444,\"#bd3786\"],[0.5555555555555556,\"#d8576b\"],[0.6666666666666666,\"#ed7953\"],[0.7777777777777778,\"#fb9f3a\"],[0.8888888888888888,\"#fdca26\"],[1.0,\"#f0f921\"]],\"sequentialminus\":[[0.0,\"#0d0887\"],[0.1111111111111111,\"#46039f\"],[0.2222222222222222,\"#7201a8\"],[0.3333333333333333,\"#9c179e\"],[0.4444444444444444,\"#bd3786\"],[0.5555555555555556,\"#d8576b\"],[0.6666666666666666,\"#ed7953\"],[0.7777777777777778,\"#fb9f3a\"],[0.8888888888888888,\"#fdca26\"],[1.0,\"#f0f921\"]]},\"colorway\":[\"#636efa\",\"#EF553B\",\"#00cc96\",\"#ab63fa\",\"#FFA15A\",\"#19d3f3\",\"#FF6692\",\"#B6E880\",\"#FF97FF\",\"#FECB52\"],\"font\":{\"color\":\"#2a3f5f\"},\"geo\":{\"bgcolor\":\"white\",\"lakecolor\":\"white\",\"landcolor\":\"#E5ECF6\",\"showlakes\":true,\"showland\":true,\"subunitcolor\":\"white\"},\"hoverlabel\":{\"align\":\"left\"},\"hovermode\":\"closest\",\"mapbox\":{\"style\":\"light\"},\"paper_bgcolor\":\"white\",\"plot_bgcolor\":\"#E5ECF6\",\"polar\":{\"angularaxis\":{\"gridcolor\":\"white\",\"linecolor\":\"white\",\"ticks\":\"\"},\"bgcolor\":\"#E5ECF6\",\"radialaxis\":{\"gridcolor\":\"white\",\"linecolor\":\"white\",\"ticks\":\"\"}},\"scene\":{\"xaxis\":{\"backgroundcolor\":\"#E5ECF6\",\"gridcolor\":\"white\",\"gridwidth\":2,\"linecolor\":\"white\",\"showbackground\":true,\"ticks\":\"\",\"zerolinecolor\":\"white\"},\"yaxis\":{\"backgroundcolor\":\"#E5ECF6\",\"gridcolor\":\"white\",\"gridwidth\":2,\"linecolor\":\"white\",\"showbackground\":true,\"ticks\":\"\",\"zerolinecolor\":\"white\"},\"zaxis\":{\"backgroundcolor\":\"#E5ECF6\",\"gridcolor\":\"white\",\"gridwidth\":2,\"linecolor\":\"white\",\"showbackground\":true,\"ticks\":\"\",\"zerolinecolor\":\"white\"}},\"shapedefaults\":{\"line\":{\"color\":\"#2a3f5f\"}},\"ternary\":{\"aaxis\":{\"gridcolor\":\"white\",\"linecolor\":\"white\",\"ticks\":\"\"},\"baxis\":{\"gridcolor\":\"white\",\"linecolor\":\"white\",\"ticks\":\"\"},\"bgcolor\":\"#E5ECF6\",\"caxis\":{\"gridcolor\":\"white\",\"linecolor\":\"white\",\"ticks\":\"\"}},\"title\":{\"x\":0.05},\"xaxis\":{\"automargin\":true,\"gridcolor\":\"white\",\"linecolor\":\"white\",\"ticks\":\"\",\"title\":{\"standoff\":15},\"zerolinecolor\":\"white\",\"zerolinewidth\":2},\"yaxis\":{\"automargin\":true,\"gridcolor\":\"white\",\"linecolor\":\"white\",\"ticks\":\"\",\"title\":{\"standoff\":15},\"zerolinecolor\":\"white\",\"zerolinewidth\":2}}},\"margin\":{\"t\":50,\"b\":50,\"r\":10,\"l\":50,\"pad\":0},\"xaxis\":{\"domain\":[0.2,0.8],\"showgrid\":false},\"yaxis\":{\"categoryorder\":\"total ascending\",\"anchor\":\"free\",\"position\":0.05,\"side\":\"right\",\"gridcolor\":\"#fafafa\"},\"font\":{\"size\":15},\"title\":{\"font\":{\"size\":28},\"text\":\"NBA FT rate in the first 30 games of the 2020-21 and 2021-22 seasons\",\"x\":0.2,\"y\":0.96},\"height\":800,\"width\":1000,\"plot_bgcolor\":\"white\",\"paper_bgcolor\":\"white\",\"showlegend\":false},                        {\"responsive\": true}                    ).then(function(){\n                            \nvar gd = document.getElementById('56896755-d7f3-4a5e-a1b6-453527062cb6');\nvar x = new MutationObserver(function (mutations, observer) {{\n        var display = window.getComputedStyle(gd).display;\n        if (!display || display === 'none') {{\n            console.log([gd, 'removed!']);\n            Plotly.purge(gd);\n            observer.disconnect();\n        }}\n}});\n\n// Listen for the removal of the full notebook cells\nvar notebookContainer = gd.closest('#notebook-container');\nif (notebookContainer) {{\n    x.observe(notebookContainer, {childList: true});\n}}\n\n// Listen for the clearing of the current output cell\nvar outputEl = gd.closest('.output');\nif (outputEl) {{\n    x.observe(outputEl, {childList: true});\n}}\n\n                        })                };                });            </script>        </div>"
     },
     "metadata": {},
     "output_type": "display_data"
    }
   ],
   "source": [
    "# Draw one example figure indexing opacities\n",
    "# fig = go.Figure()\n",
    "#\n",
    "# fig.add_trace(\n",
    "#     go.Scatter(\n",
    "#         x = TOP15_DF['PAST_FTR'],\n",
    "#         y = TOP15_DF['PLAYER_NAME'],\n",
    "#         mode='markers',\n",
    "#         marker=dict(\n",
    "#             opacity=0.5,\n",
    "#             size=18,\n",
    "#             color='#d4d4d4'\n",
    "#         )\n",
    "#     )\n",
    "# )\n",
    "#\n",
    "# fig.add_trace(\n",
    "#     go.Scatter(\n",
    "#         x = TOP15_DF['CURR_FTR'],\n",
    "#         y = TOP15_DF['PLAYER_NAME'],\n",
    "#         mode='markers',\n",
    "#         marker = dict(\n",
    "#             opacity = 0.8,\n",
    "#             size=18\n",
    "# )\n",
    "#     )\n",
    "# )\n",
    "#\n",
    "# fig.update_layout(\n",
    "#     # dimensions\n",
    "#     height = 800,\n",
    "#     width = 1000,\n",
    "#     margin = dict(\n",
    "#         t = 50,\n",
    "#         b = 50,\n",
    "#         r = 10,\n",
    "#         l = 50,\n",
    "#         pad = 0\n",
    "#     ),\n",
    "#\n",
    "#     # axes info\n",
    "#     xaxis = dict(\n",
    "#         domain = [0.2, 0.8],\n",
    "#         showgrid = False,\n",
    "#     ),\n",
    "#     yaxis = dict(\n",
    "#         categoryorder = 'total ascending',\n",
    "#         anchor = 'free',\n",
    "#         position = 0.05,\n",
    "#         side = 'right',\n",
    "#         gridcolor = '#fafafa'\n",
    "#     ),\n",
    "#\n",
    "#     font=dict(size=15),\n",
    "#\n",
    "#     # chart styling\n",
    "#     plot_bgcolor = 'white',\n",
    "#     paper_bgcolor = 'white',\n",
    "#     showlegend=False,\n",
    "#\n",
    "#     # title info\n",
    "#     title = dict(\n",
    "#         text = 'NBA FT rate in the first 30 games of the 2020-21 and 2021-22 seasons',\n",
    "#         font=dict(size=28),\n",
    "#         x = 0.2,\n",
    "#         y = 0.96\n",
    "#     )\n",
    "# )\n",
    "#\n",
    "# fig.show()"
   ],
   "metadata": {
    "collapsed": false,
    "pycharm": {
     "name": "#%%\n"
    }
   }
  },
  {
   "cell_type": "code",
   "execution_count": 97,
   "outputs": [],
   "source": [
    "def make_scatter(opacity_1, opacity_2, metric_1, metric_2):\n",
    "    # Draw one example figure indexing opacities\n",
    "    fig = go.Figure()\n",
    "\n",
    "    fig.add_trace(\n",
    "        go.Scatter(\n",
    "            x = TOP15_DF[metric_1],\n",
    "            y = TOP15_DF['PLAYER_NAME'],\n",
    "            mode='markers',\n",
    "            marker=dict(\n",
    "                opacity=opacity_1,\n",
    "                size=18,\n",
    "                color='#d4d4d4'\n",
    "            )\n",
    "        )\n",
    "    )\n",
    "\n",
    "    fig.add_trace(\n",
    "        go.Scatter(\n",
    "            x = TOP15_DF[metric_2],\n",
    "            y = TOP15_DF['PLAYER_NAME'],\n",
    "            mode='markers',\n",
    "            marker = dict(\n",
    "                opacity = opacity_2,\n",
    "                size=18\n",
    "            )\n",
    "        )\n",
    "    )\n",
    "\n",
    "    fig.update_layout(\n",
    "        # dimensions\n",
    "        height = 800,\n",
    "        width = 1000,\n",
    "        margin = dict(\n",
    "            t = 50,\n",
    "            b = 50,\n",
    "            r = 10,\n",
    "            l = 50,\n",
    "            pad = 0\n",
    "        ),\n",
    "\n",
    "        # axes info\n",
    "        xaxis = dict(\n",
    "            domain = [0.2, 0.8],\n",
    "            showgrid = False,\n",
    "        ),\n",
    "        yaxis = dict(\n",
    "            categoryorder = 'total ascending',\n",
    "            anchor = 'free',\n",
    "            position = 0.05,\n",
    "            side = 'right',\n",
    "            gridcolor = '#fafafa'\n",
    "        ),\n",
    "\n",
    "        font=dict(size=15),\n",
    "\n",
    "        # chart styling\n",
    "        plot_bgcolor = 'white',\n",
    "        paper_bgcolor = 'white',\n",
    "        showlegend=False,\n",
    "\n",
    "        # title info\n",
    "        title = dict(\n",
    "            text = 'NBA FT rate in the first 30 games of the 2020-21 and 2021-22 seasons',\n",
    "            font=dict(size=28),\n",
    "            x = 0.2,\n",
    "            y = 0.96\n",
    "        )\n",
    "    )\n",
    "\n",
    "    return fig"
   ],
   "metadata": {
    "collapsed": false,
    "pycharm": {
     "name": "#%%\n"
    }
   }
  },
  {
   "cell_type": "code",
   "execution_count": 98,
   "outputs": [
    {
     "data": {
      "application/vnd.plotly.v1+json": {
       "data": [
        {
         "marker": {
          "color": "#d4d4d4",
          "opacity": 0.5,
          "size": 18
         },
         "mode": "markers",
         "x": [
          0.61,
          0.585,
          0.505,
          0.481,
          0.456,
          0.456,
          0.441,
          0.44,
          0.438,
          0.434,
          0.423,
          0.41,
          0.407,
          0.395,
          0.393
         ],
         "y": [
          "Giannis Antetokounmpo",
          "Joel Embiid",
          "Trae Young",
          "Jimmy Butler",
          "Damian Lillard",
          "Luka Doncic",
          "DeMar DeRozan",
          "Bam Adebayo",
          "Shai Gilgeous-Alexander",
          "Andre Drummond",
          "Kevin Durant",
          "Bradley Beal",
          "Rudy Gobert",
          "Evan Fournier",
          "James Harden"
         ],
         "type": "scatter"
        },
        {
         "marker": {
          "opacity": 1.0,
          "size": 18
         },
         "mode": "markers",
         "x": [
          0.667,
          0.636,
          0.407,
          0.497,
          0.28,
          0.378,
          0.492,
          0.448,
          0.366,
          0.251,
          0.418,
          0.28,
          0.44,
          0.123,
          0.435
         ],
         "y": [
          "Giannis Antetokounmpo",
          "Joel Embiid",
          "Trae Young",
          "Jimmy Butler",
          "Damian Lillard",
          "Luka Doncic",
          "DeMar DeRozan",
          "Bam Adebayo",
          "Shai Gilgeous-Alexander",
          "Andre Drummond",
          "Kevin Durant",
          "Bradley Beal",
          "Rudy Gobert",
          "Evan Fournier",
          "James Harden"
         ],
         "type": "scatter"
        }
       ],
       "layout": {
        "template": {
         "data": {
          "bar": [
           {
            "error_x": {
             "color": "#2a3f5f"
            },
            "error_y": {
             "color": "#2a3f5f"
            },
            "marker": {
             "line": {
              "color": "#E5ECF6",
              "width": 0.5
             },
             "pattern": {
              "fillmode": "overlay",
              "size": 10,
              "solidity": 0.2
             }
            },
            "type": "bar"
           }
          ],
          "barpolar": [
           {
            "marker": {
             "line": {
              "color": "#E5ECF6",
              "width": 0.5
             },
             "pattern": {
              "fillmode": "overlay",
              "size": 10,
              "solidity": 0.2
             }
            },
            "type": "barpolar"
           }
          ],
          "carpet": [
           {
            "aaxis": {
             "endlinecolor": "#2a3f5f",
             "gridcolor": "white",
             "linecolor": "white",
             "minorgridcolor": "white",
             "startlinecolor": "#2a3f5f"
            },
            "baxis": {
             "endlinecolor": "#2a3f5f",
             "gridcolor": "white",
             "linecolor": "white",
             "minorgridcolor": "white",
             "startlinecolor": "#2a3f5f"
            },
            "type": "carpet"
           }
          ],
          "choropleth": [
           {
            "colorbar": {
             "outlinewidth": 0,
             "ticks": ""
            },
            "type": "choropleth"
           }
          ],
          "contour": [
           {
            "colorbar": {
             "outlinewidth": 0,
             "ticks": ""
            },
            "colorscale": [
             [
              0.0,
              "#0d0887"
             ],
             [
              0.1111111111111111,
              "#46039f"
             ],
             [
              0.2222222222222222,
              "#7201a8"
             ],
             [
              0.3333333333333333,
              "#9c179e"
             ],
             [
              0.4444444444444444,
              "#bd3786"
             ],
             [
              0.5555555555555556,
              "#d8576b"
             ],
             [
              0.6666666666666666,
              "#ed7953"
             ],
             [
              0.7777777777777778,
              "#fb9f3a"
             ],
             [
              0.8888888888888888,
              "#fdca26"
             ],
             [
              1.0,
              "#f0f921"
             ]
            ],
            "type": "contour"
           }
          ],
          "contourcarpet": [
           {
            "colorbar": {
             "outlinewidth": 0,
             "ticks": ""
            },
            "type": "contourcarpet"
           }
          ],
          "heatmap": [
           {
            "colorbar": {
             "outlinewidth": 0,
             "ticks": ""
            },
            "colorscale": [
             [
              0.0,
              "#0d0887"
             ],
             [
              0.1111111111111111,
              "#46039f"
             ],
             [
              0.2222222222222222,
              "#7201a8"
             ],
             [
              0.3333333333333333,
              "#9c179e"
             ],
             [
              0.4444444444444444,
              "#bd3786"
             ],
             [
              0.5555555555555556,
              "#d8576b"
             ],
             [
              0.6666666666666666,
              "#ed7953"
             ],
             [
              0.7777777777777778,
              "#fb9f3a"
             ],
             [
              0.8888888888888888,
              "#fdca26"
             ],
             [
              1.0,
              "#f0f921"
             ]
            ],
            "type": "heatmap"
           }
          ],
          "heatmapgl": [
           {
            "colorbar": {
             "outlinewidth": 0,
             "ticks": ""
            },
            "colorscale": [
             [
              0.0,
              "#0d0887"
             ],
             [
              0.1111111111111111,
              "#46039f"
             ],
             [
              0.2222222222222222,
              "#7201a8"
             ],
             [
              0.3333333333333333,
              "#9c179e"
             ],
             [
              0.4444444444444444,
              "#bd3786"
             ],
             [
              0.5555555555555556,
              "#d8576b"
             ],
             [
              0.6666666666666666,
              "#ed7953"
             ],
             [
              0.7777777777777778,
              "#fb9f3a"
             ],
             [
              0.8888888888888888,
              "#fdca26"
             ],
             [
              1.0,
              "#f0f921"
             ]
            ],
            "type": "heatmapgl"
           }
          ],
          "histogram": [
           {
            "marker": {
             "pattern": {
              "fillmode": "overlay",
              "size": 10,
              "solidity": 0.2
             }
            },
            "type": "histogram"
           }
          ],
          "histogram2d": [
           {
            "colorbar": {
             "outlinewidth": 0,
             "ticks": ""
            },
            "colorscale": [
             [
              0.0,
              "#0d0887"
             ],
             [
              0.1111111111111111,
              "#46039f"
             ],
             [
              0.2222222222222222,
              "#7201a8"
             ],
             [
              0.3333333333333333,
              "#9c179e"
             ],
             [
              0.4444444444444444,
              "#bd3786"
             ],
             [
              0.5555555555555556,
              "#d8576b"
             ],
             [
              0.6666666666666666,
              "#ed7953"
             ],
             [
              0.7777777777777778,
              "#fb9f3a"
             ],
             [
              0.8888888888888888,
              "#fdca26"
             ],
             [
              1.0,
              "#f0f921"
             ]
            ],
            "type": "histogram2d"
           }
          ],
          "histogram2dcontour": [
           {
            "colorbar": {
             "outlinewidth": 0,
             "ticks": ""
            },
            "colorscale": [
             [
              0.0,
              "#0d0887"
             ],
             [
              0.1111111111111111,
              "#46039f"
             ],
             [
              0.2222222222222222,
              "#7201a8"
             ],
             [
              0.3333333333333333,
              "#9c179e"
             ],
             [
              0.4444444444444444,
              "#bd3786"
             ],
             [
              0.5555555555555556,
              "#d8576b"
             ],
             [
              0.6666666666666666,
              "#ed7953"
             ],
             [
              0.7777777777777778,
              "#fb9f3a"
             ],
             [
              0.8888888888888888,
              "#fdca26"
             ],
             [
              1.0,
              "#f0f921"
             ]
            ],
            "type": "histogram2dcontour"
           }
          ],
          "mesh3d": [
           {
            "colorbar": {
             "outlinewidth": 0,
             "ticks": ""
            },
            "type": "mesh3d"
           }
          ],
          "parcoords": [
           {
            "line": {
             "colorbar": {
              "outlinewidth": 0,
              "ticks": ""
             }
            },
            "type": "parcoords"
           }
          ],
          "pie": [
           {
            "automargin": true,
            "type": "pie"
           }
          ],
          "scatter": [
           {
            "marker": {
             "colorbar": {
              "outlinewidth": 0,
              "ticks": ""
             }
            },
            "type": "scatter"
           }
          ],
          "scatter3d": [
           {
            "line": {
             "colorbar": {
              "outlinewidth": 0,
              "ticks": ""
             }
            },
            "marker": {
             "colorbar": {
              "outlinewidth": 0,
              "ticks": ""
             }
            },
            "type": "scatter3d"
           }
          ],
          "scattercarpet": [
           {
            "marker": {
             "colorbar": {
              "outlinewidth": 0,
              "ticks": ""
             }
            },
            "type": "scattercarpet"
           }
          ],
          "scattergeo": [
           {
            "marker": {
             "colorbar": {
              "outlinewidth": 0,
              "ticks": ""
             }
            },
            "type": "scattergeo"
           }
          ],
          "scattergl": [
           {
            "marker": {
             "colorbar": {
              "outlinewidth": 0,
              "ticks": ""
             }
            },
            "type": "scattergl"
           }
          ],
          "scattermapbox": [
           {
            "marker": {
             "colorbar": {
              "outlinewidth": 0,
              "ticks": ""
             }
            },
            "type": "scattermapbox"
           }
          ],
          "scatterpolar": [
           {
            "marker": {
             "colorbar": {
              "outlinewidth": 0,
              "ticks": ""
             }
            },
            "type": "scatterpolar"
           }
          ],
          "scatterpolargl": [
           {
            "marker": {
             "colorbar": {
              "outlinewidth": 0,
              "ticks": ""
             }
            },
            "type": "scatterpolargl"
           }
          ],
          "scatterternary": [
           {
            "marker": {
             "colorbar": {
              "outlinewidth": 0,
              "ticks": ""
             }
            },
            "type": "scatterternary"
           }
          ],
          "surface": [
           {
            "colorbar": {
             "outlinewidth": 0,
             "ticks": ""
            },
            "colorscale": [
             [
              0.0,
              "#0d0887"
             ],
             [
              0.1111111111111111,
              "#46039f"
             ],
             [
              0.2222222222222222,
              "#7201a8"
             ],
             [
              0.3333333333333333,
              "#9c179e"
             ],
             [
              0.4444444444444444,
              "#bd3786"
             ],
             [
              0.5555555555555556,
              "#d8576b"
             ],
             [
              0.6666666666666666,
              "#ed7953"
             ],
             [
              0.7777777777777778,
              "#fb9f3a"
             ],
             [
              0.8888888888888888,
              "#fdca26"
             ],
             [
              1.0,
              "#f0f921"
             ]
            ],
            "type": "surface"
           }
          ],
          "table": [
           {
            "cells": {
             "fill": {
              "color": "#EBF0F8"
             },
             "line": {
              "color": "white"
             }
            },
            "header": {
             "fill": {
              "color": "#C8D4E3"
             },
             "line": {
              "color": "white"
             }
            },
            "type": "table"
           }
          ]
         },
         "layout": {
          "annotationdefaults": {
           "arrowcolor": "#2a3f5f",
           "arrowhead": 0,
           "arrowwidth": 1
          },
          "autotypenumbers": "strict",
          "coloraxis": {
           "colorbar": {
            "outlinewidth": 0,
            "ticks": ""
           }
          },
          "colorscale": {
           "diverging": [
            [
             0,
             "#8e0152"
            ],
            [
             0.1,
             "#c51b7d"
            ],
            [
             0.2,
             "#de77ae"
            ],
            [
             0.3,
             "#f1b6da"
            ],
            [
             0.4,
             "#fde0ef"
            ],
            [
             0.5,
             "#f7f7f7"
            ],
            [
             0.6,
             "#e6f5d0"
            ],
            [
             0.7,
             "#b8e186"
            ],
            [
             0.8,
             "#7fbc41"
            ],
            [
             0.9,
             "#4d9221"
            ],
            [
             1,
             "#276419"
            ]
           ],
           "sequential": [
            [
             0.0,
             "#0d0887"
            ],
            [
             0.1111111111111111,
             "#46039f"
            ],
            [
             0.2222222222222222,
             "#7201a8"
            ],
            [
             0.3333333333333333,
             "#9c179e"
            ],
            [
             0.4444444444444444,
             "#bd3786"
            ],
            [
             0.5555555555555556,
             "#d8576b"
            ],
            [
             0.6666666666666666,
             "#ed7953"
            ],
            [
             0.7777777777777778,
             "#fb9f3a"
            ],
            [
             0.8888888888888888,
             "#fdca26"
            ],
            [
             1.0,
             "#f0f921"
            ]
           ],
           "sequentialminus": [
            [
             0.0,
             "#0d0887"
            ],
            [
             0.1111111111111111,
             "#46039f"
            ],
            [
             0.2222222222222222,
             "#7201a8"
            ],
            [
             0.3333333333333333,
             "#9c179e"
            ],
            [
             0.4444444444444444,
             "#bd3786"
            ],
            [
             0.5555555555555556,
             "#d8576b"
            ],
            [
             0.6666666666666666,
             "#ed7953"
            ],
            [
             0.7777777777777778,
             "#fb9f3a"
            ],
            [
             0.8888888888888888,
             "#fdca26"
            ],
            [
             1.0,
             "#f0f921"
            ]
           ]
          },
          "colorway": [
           "#636efa",
           "#EF553B",
           "#00cc96",
           "#ab63fa",
           "#FFA15A",
           "#19d3f3",
           "#FF6692",
           "#B6E880",
           "#FF97FF",
           "#FECB52"
          ],
          "font": {
           "color": "#2a3f5f"
          },
          "geo": {
           "bgcolor": "white",
           "lakecolor": "white",
           "landcolor": "#E5ECF6",
           "showlakes": true,
           "showland": true,
           "subunitcolor": "white"
          },
          "hoverlabel": {
           "align": "left"
          },
          "hovermode": "closest",
          "mapbox": {
           "style": "light"
          },
          "paper_bgcolor": "white",
          "plot_bgcolor": "#E5ECF6",
          "polar": {
           "angularaxis": {
            "gridcolor": "white",
            "linecolor": "white",
            "ticks": ""
           },
           "bgcolor": "#E5ECF6",
           "radialaxis": {
            "gridcolor": "white",
            "linecolor": "white",
            "ticks": ""
           }
          },
          "scene": {
           "xaxis": {
            "backgroundcolor": "#E5ECF6",
            "gridcolor": "white",
            "gridwidth": 2,
            "linecolor": "white",
            "showbackground": true,
            "ticks": "",
            "zerolinecolor": "white"
           },
           "yaxis": {
            "backgroundcolor": "#E5ECF6",
            "gridcolor": "white",
            "gridwidth": 2,
            "linecolor": "white",
            "showbackground": true,
            "ticks": "",
            "zerolinecolor": "white"
           },
           "zaxis": {
            "backgroundcolor": "#E5ECF6",
            "gridcolor": "white",
            "gridwidth": 2,
            "linecolor": "white",
            "showbackground": true,
            "ticks": "",
            "zerolinecolor": "white"
           }
          },
          "shapedefaults": {
           "line": {
            "color": "#2a3f5f"
           }
          },
          "ternary": {
           "aaxis": {
            "gridcolor": "white",
            "linecolor": "white",
            "ticks": ""
           },
           "baxis": {
            "gridcolor": "white",
            "linecolor": "white",
            "ticks": ""
           },
           "bgcolor": "#E5ECF6",
           "caxis": {
            "gridcolor": "white",
            "linecolor": "white",
            "ticks": ""
           }
          },
          "title": {
           "x": 0.05
          },
          "xaxis": {
           "automargin": true,
           "gridcolor": "white",
           "linecolor": "white",
           "ticks": "",
           "title": {
            "standoff": 15
           },
           "zerolinecolor": "white",
           "zerolinewidth": 2
          },
          "yaxis": {
           "automargin": true,
           "gridcolor": "white",
           "linecolor": "white",
           "ticks": "",
           "title": {
            "standoff": 15
           },
           "zerolinecolor": "white",
           "zerolinewidth": 2
          }
         }
        },
        "margin": {
         "t": 50,
         "b": 50,
         "r": 10,
         "l": 50,
         "pad": 0
        },
        "xaxis": {
         "domain": [
          0.2,
          0.8
         ],
         "showgrid": false
        },
        "yaxis": {
         "categoryorder": "total ascending",
         "anchor": "free",
         "position": 0.05,
         "side": "right",
         "gridcolor": "#fafafa"
        },
        "font": {
         "size": 15
        },
        "title": {
         "font": {
          "size": 28
         },
         "text": "NBA FT rate in the first 30 games of the 2020-21 and 2021-22 seasons",
         "x": 0.2,
         "y": 0.96
        },
        "height": 800,
        "width": 1000,
        "plot_bgcolor": "white",
        "paper_bgcolor": "white",
        "showlegend": false
       },
       "config": {
        "plotlyServerURL": "https://plot.ly"
       }
      },
      "text/html": "<div>                            <div id=\"1e5f938e-4fae-4ab9-9b01-fb675778d449\" class=\"plotly-graph-div\" style=\"height:800px; width:1000px;\"></div>            <script type=\"text/javascript\">                require([\"plotly\"], function(Plotly) {                    window.PLOTLYENV=window.PLOTLYENV || {};                                    if (document.getElementById(\"1e5f938e-4fae-4ab9-9b01-fb675778d449\")) {                    Plotly.newPlot(                        \"1e5f938e-4fae-4ab9-9b01-fb675778d449\",                        [{\"marker\":{\"color\":\"#d4d4d4\",\"opacity\":0.5,\"size\":18},\"mode\":\"markers\",\"x\":[0.61,0.585,0.505,0.481,0.456,0.456,0.441,0.44,0.438,0.434,0.423,0.41,0.407,0.395,0.393],\"y\":[\"Giannis Antetokounmpo\",\"Joel Embiid\",\"Trae Young\",\"Jimmy Butler\",\"Damian Lillard\",\"Luka Doncic\",\"DeMar DeRozan\",\"Bam Adebayo\",\"Shai Gilgeous-Alexander\",\"Andre Drummond\",\"Kevin Durant\",\"Bradley Beal\",\"Rudy Gobert\",\"Evan Fournier\",\"James Harden\"],\"type\":\"scatter\"},{\"marker\":{\"opacity\":1.0,\"size\":18},\"mode\":\"markers\",\"x\":[0.667,0.636,0.407,0.497,0.28,0.378,0.492,0.448,0.366,0.251,0.418,0.28,0.44,0.123,0.435],\"y\":[\"Giannis Antetokounmpo\",\"Joel Embiid\",\"Trae Young\",\"Jimmy Butler\",\"Damian Lillard\",\"Luka Doncic\",\"DeMar DeRozan\",\"Bam Adebayo\",\"Shai Gilgeous-Alexander\",\"Andre Drummond\",\"Kevin Durant\",\"Bradley Beal\",\"Rudy Gobert\",\"Evan Fournier\",\"James Harden\"],\"type\":\"scatter\"}],                        {\"template\":{\"data\":{\"bar\":[{\"error_x\":{\"color\":\"#2a3f5f\"},\"error_y\":{\"color\":\"#2a3f5f\"},\"marker\":{\"line\":{\"color\":\"#E5ECF6\",\"width\":0.5},\"pattern\":{\"fillmode\":\"overlay\",\"size\":10,\"solidity\":0.2}},\"type\":\"bar\"}],\"barpolar\":[{\"marker\":{\"line\":{\"color\":\"#E5ECF6\",\"width\":0.5},\"pattern\":{\"fillmode\":\"overlay\",\"size\":10,\"solidity\":0.2}},\"type\":\"barpolar\"}],\"carpet\":[{\"aaxis\":{\"endlinecolor\":\"#2a3f5f\",\"gridcolor\":\"white\",\"linecolor\":\"white\",\"minorgridcolor\":\"white\",\"startlinecolor\":\"#2a3f5f\"},\"baxis\":{\"endlinecolor\":\"#2a3f5f\",\"gridcolor\":\"white\",\"linecolor\":\"white\",\"minorgridcolor\":\"white\",\"startlinecolor\":\"#2a3f5f\"},\"type\":\"carpet\"}],\"choropleth\":[{\"colorbar\":{\"outlinewidth\":0,\"ticks\":\"\"},\"type\":\"choropleth\"}],\"contour\":[{\"colorbar\":{\"outlinewidth\":0,\"ticks\":\"\"},\"colorscale\":[[0.0,\"#0d0887\"],[0.1111111111111111,\"#46039f\"],[0.2222222222222222,\"#7201a8\"],[0.3333333333333333,\"#9c179e\"],[0.4444444444444444,\"#bd3786\"],[0.5555555555555556,\"#d8576b\"],[0.6666666666666666,\"#ed7953\"],[0.7777777777777778,\"#fb9f3a\"],[0.8888888888888888,\"#fdca26\"],[1.0,\"#f0f921\"]],\"type\":\"contour\"}],\"contourcarpet\":[{\"colorbar\":{\"outlinewidth\":0,\"ticks\":\"\"},\"type\":\"contourcarpet\"}],\"heatmap\":[{\"colorbar\":{\"outlinewidth\":0,\"ticks\":\"\"},\"colorscale\":[[0.0,\"#0d0887\"],[0.1111111111111111,\"#46039f\"],[0.2222222222222222,\"#7201a8\"],[0.3333333333333333,\"#9c179e\"],[0.4444444444444444,\"#bd3786\"],[0.5555555555555556,\"#d8576b\"],[0.6666666666666666,\"#ed7953\"],[0.7777777777777778,\"#fb9f3a\"],[0.8888888888888888,\"#fdca26\"],[1.0,\"#f0f921\"]],\"type\":\"heatmap\"}],\"heatmapgl\":[{\"colorbar\":{\"outlinewidth\":0,\"ticks\":\"\"},\"colorscale\":[[0.0,\"#0d0887\"],[0.1111111111111111,\"#46039f\"],[0.2222222222222222,\"#7201a8\"],[0.3333333333333333,\"#9c179e\"],[0.4444444444444444,\"#bd3786\"],[0.5555555555555556,\"#d8576b\"],[0.6666666666666666,\"#ed7953\"],[0.7777777777777778,\"#fb9f3a\"],[0.8888888888888888,\"#fdca26\"],[1.0,\"#f0f921\"]],\"type\":\"heatmapgl\"}],\"histogram\":[{\"marker\":{\"pattern\":{\"fillmode\":\"overlay\",\"size\":10,\"solidity\":0.2}},\"type\":\"histogram\"}],\"histogram2d\":[{\"colorbar\":{\"outlinewidth\":0,\"ticks\":\"\"},\"colorscale\":[[0.0,\"#0d0887\"],[0.1111111111111111,\"#46039f\"],[0.2222222222222222,\"#7201a8\"],[0.3333333333333333,\"#9c179e\"],[0.4444444444444444,\"#bd3786\"],[0.5555555555555556,\"#d8576b\"],[0.6666666666666666,\"#ed7953\"],[0.7777777777777778,\"#fb9f3a\"],[0.8888888888888888,\"#fdca26\"],[1.0,\"#f0f921\"]],\"type\":\"histogram2d\"}],\"histogram2dcontour\":[{\"colorbar\":{\"outlinewidth\":0,\"ticks\":\"\"},\"colorscale\":[[0.0,\"#0d0887\"],[0.1111111111111111,\"#46039f\"],[0.2222222222222222,\"#7201a8\"],[0.3333333333333333,\"#9c179e\"],[0.4444444444444444,\"#bd3786\"],[0.5555555555555556,\"#d8576b\"],[0.6666666666666666,\"#ed7953\"],[0.7777777777777778,\"#fb9f3a\"],[0.8888888888888888,\"#fdca26\"],[1.0,\"#f0f921\"]],\"type\":\"histogram2dcontour\"}],\"mesh3d\":[{\"colorbar\":{\"outlinewidth\":0,\"ticks\":\"\"},\"type\":\"mesh3d\"}],\"parcoords\":[{\"line\":{\"colorbar\":{\"outlinewidth\":0,\"ticks\":\"\"}},\"type\":\"parcoords\"}],\"pie\":[{\"automargin\":true,\"type\":\"pie\"}],\"scatter\":[{\"marker\":{\"colorbar\":{\"outlinewidth\":0,\"ticks\":\"\"}},\"type\":\"scatter\"}],\"scatter3d\":[{\"line\":{\"colorbar\":{\"outlinewidth\":0,\"ticks\":\"\"}},\"marker\":{\"colorbar\":{\"outlinewidth\":0,\"ticks\":\"\"}},\"type\":\"scatter3d\"}],\"scattercarpet\":[{\"marker\":{\"colorbar\":{\"outlinewidth\":0,\"ticks\":\"\"}},\"type\":\"scattercarpet\"}],\"scattergeo\":[{\"marker\":{\"colorbar\":{\"outlinewidth\":0,\"ticks\":\"\"}},\"type\":\"scattergeo\"}],\"scattergl\":[{\"marker\":{\"colorbar\":{\"outlinewidth\":0,\"ticks\":\"\"}},\"type\":\"scattergl\"}],\"scattermapbox\":[{\"marker\":{\"colorbar\":{\"outlinewidth\":0,\"ticks\":\"\"}},\"type\":\"scattermapbox\"}],\"scatterpolar\":[{\"marker\":{\"colorbar\":{\"outlinewidth\":0,\"ticks\":\"\"}},\"type\":\"scatterpolar\"}],\"scatterpolargl\":[{\"marker\":{\"colorbar\":{\"outlinewidth\":0,\"ticks\":\"\"}},\"type\":\"scatterpolargl\"}],\"scatterternary\":[{\"marker\":{\"colorbar\":{\"outlinewidth\":0,\"ticks\":\"\"}},\"type\":\"scatterternary\"}],\"surface\":[{\"colorbar\":{\"outlinewidth\":0,\"ticks\":\"\"},\"colorscale\":[[0.0,\"#0d0887\"],[0.1111111111111111,\"#46039f\"],[0.2222222222222222,\"#7201a8\"],[0.3333333333333333,\"#9c179e\"],[0.4444444444444444,\"#bd3786\"],[0.5555555555555556,\"#d8576b\"],[0.6666666666666666,\"#ed7953\"],[0.7777777777777778,\"#fb9f3a\"],[0.8888888888888888,\"#fdca26\"],[1.0,\"#f0f921\"]],\"type\":\"surface\"}],\"table\":[{\"cells\":{\"fill\":{\"color\":\"#EBF0F8\"},\"line\":{\"color\":\"white\"}},\"header\":{\"fill\":{\"color\":\"#C8D4E3\"},\"line\":{\"color\":\"white\"}},\"type\":\"table\"}]},\"layout\":{\"annotationdefaults\":{\"arrowcolor\":\"#2a3f5f\",\"arrowhead\":0,\"arrowwidth\":1},\"autotypenumbers\":\"strict\",\"coloraxis\":{\"colorbar\":{\"outlinewidth\":0,\"ticks\":\"\"}},\"colorscale\":{\"diverging\":[[0,\"#8e0152\"],[0.1,\"#c51b7d\"],[0.2,\"#de77ae\"],[0.3,\"#f1b6da\"],[0.4,\"#fde0ef\"],[0.5,\"#f7f7f7\"],[0.6,\"#e6f5d0\"],[0.7,\"#b8e186\"],[0.8,\"#7fbc41\"],[0.9,\"#4d9221\"],[1,\"#276419\"]],\"sequential\":[[0.0,\"#0d0887\"],[0.1111111111111111,\"#46039f\"],[0.2222222222222222,\"#7201a8\"],[0.3333333333333333,\"#9c179e\"],[0.4444444444444444,\"#bd3786\"],[0.5555555555555556,\"#d8576b\"],[0.6666666666666666,\"#ed7953\"],[0.7777777777777778,\"#fb9f3a\"],[0.8888888888888888,\"#fdca26\"],[1.0,\"#f0f921\"]],\"sequentialminus\":[[0.0,\"#0d0887\"],[0.1111111111111111,\"#46039f\"],[0.2222222222222222,\"#7201a8\"],[0.3333333333333333,\"#9c179e\"],[0.4444444444444444,\"#bd3786\"],[0.5555555555555556,\"#d8576b\"],[0.6666666666666666,\"#ed7953\"],[0.7777777777777778,\"#fb9f3a\"],[0.8888888888888888,\"#fdca26\"],[1.0,\"#f0f921\"]]},\"colorway\":[\"#636efa\",\"#EF553B\",\"#00cc96\",\"#ab63fa\",\"#FFA15A\",\"#19d3f3\",\"#FF6692\",\"#B6E880\",\"#FF97FF\",\"#FECB52\"],\"font\":{\"color\":\"#2a3f5f\"},\"geo\":{\"bgcolor\":\"white\",\"lakecolor\":\"white\",\"landcolor\":\"#E5ECF6\",\"showlakes\":true,\"showland\":true,\"subunitcolor\":\"white\"},\"hoverlabel\":{\"align\":\"left\"},\"hovermode\":\"closest\",\"mapbox\":{\"style\":\"light\"},\"paper_bgcolor\":\"white\",\"plot_bgcolor\":\"#E5ECF6\",\"polar\":{\"angularaxis\":{\"gridcolor\":\"white\",\"linecolor\":\"white\",\"ticks\":\"\"},\"bgcolor\":\"#E5ECF6\",\"radialaxis\":{\"gridcolor\":\"white\",\"linecolor\":\"white\",\"ticks\":\"\"}},\"scene\":{\"xaxis\":{\"backgroundcolor\":\"#E5ECF6\",\"gridcolor\":\"white\",\"gridwidth\":2,\"linecolor\":\"white\",\"showbackground\":true,\"ticks\":\"\",\"zerolinecolor\":\"white\"},\"yaxis\":{\"backgroundcolor\":\"#E5ECF6\",\"gridcolor\":\"white\",\"gridwidth\":2,\"linecolor\":\"white\",\"showbackground\":true,\"ticks\":\"\",\"zerolinecolor\":\"white\"},\"zaxis\":{\"backgroundcolor\":\"#E5ECF6\",\"gridcolor\":\"white\",\"gridwidth\":2,\"linecolor\":\"white\",\"showbackground\":true,\"ticks\":\"\",\"zerolinecolor\":\"white\"}},\"shapedefaults\":{\"line\":{\"color\":\"#2a3f5f\"}},\"ternary\":{\"aaxis\":{\"gridcolor\":\"white\",\"linecolor\":\"white\",\"ticks\":\"\"},\"baxis\":{\"gridcolor\":\"white\",\"linecolor\":\"white\",\"ticks\":\"\"},\"bgcolor\":\"#E5ECF6\",\"caxis\":{\"gridcolor\":\"white\",\"linecolor\":\"white\",\"ticks\":\"\"}},\"title\":{\"x\":0.05},\"xaxis\":{\"automargin\":true,\"gridcolor\":\"white\",\"linecolor\":\"white\",\"ticks\":\"\",\"title\":{\"standoff\":15},\"zerolinecolor\":\"white\",\"zerolinewidth\":2},\"yaxis\":{\"automargin\":true,\"gridcolor\":\"white\",\"linecolor\":\"white\",\"ticks\":\"\",\"title\":{\"standoff\":15},\"zerolinecolor\":\"white\",\"zerolinewidth\":2}}},\"margin\":{\"t\":50,\"b\":50,\"r\":10,\"l\":50,\"pad\":0},\"xaxis\":{\"domain\":[0.2,0.8],\"showgrid\":false},\"yaxis\":{\"categoryorder\":\"total ascending\",\"anchor\":\"free\",\"position\":0.05,\"side\":\"right\",\"gridcolor\":\"#fafafa\"},\"font\":{\"size\":15},\"title\":{\"font\":{\"size\":28},\"text\":\"NBA FT rate in the first 30 games of the 2020-21 and 2021-22 seasons\",\"x\":0.2,\"y\":0.96},\"height\":800,\"width\":1000,\"plot_bgcolor\":\"white\",\"paper_bgcolor\":\"white\",\"showlegend\":false},                        {\"responsive\": true}                    ).then(function(){\n                            \nvar gd = document.getElementById('1e5f938e-4fae-4ab9-9b01-fb675778d449');\nvar x = new MutationObserver(function (mutations, observer) {{\n        var display = window.getComputedStyle(gd).display;\n        if (!display || display === 'none') {{\n            console.log([gd, 'removed!']);\n            Plotly.purge(gd);\n            observer.disconnect();\n        }}\n}});\n\n// Listen for the removal of the full notebook cells\nvar notebookContainer = gd.closest('#notebook-container');\nif (notebookContainer) {{\n    x.observe(notebookContainer, {childList: true});\n}}\n\n// Listen for the clearing of the current output cell\nvar outputEl = gd.closest('.output');\nif (outputEl) {{\n    x.observe(outputEl, {childList: true});\n}}\n\n                        })                };                });            </script>        </div>"
     },
     "metadata": {},
     "output_type": "display_data"
    }
   ],
   "source": [
    "test_figure = make_scatter(0.5, 1., 'PAST_FTR', 'CURR_FTR')\n",
    "test_figure.show()"
   ],
   "metadata": {
    "collapsed": false,
    "pycharm": {
     "name": "#%%\n"
    }
   }
  },
  {
   "cell_type": "code",
   "execution_count": null,
   "outputs": [],
   "source": [
    "# create transition fucntion\n",
    "# FTR diff by N_TRANSITION_FRAMES\n",
    "# for each frame, move the second plotted graph over by that much"
   ],
   "metadata": {
    "collapsed": false,
    "pycharm": {
     "name": "#%%\n"
    }
   }
  },
  {
   "cell_type": "code",
   "execution_count": 99,
   "outputs": [],
   "source": [
    "right_idx = 0\n",
    "left_idx = 0\n",
    "\n",
    "for n in range(N_FRAMES):\n",
    "    # draw each figure\n",
    "    right_idx -= 1\n",
    "    left_idx = n\n",
    "\n",
    "    figure = make_scatter(OPACITIES[left_idx], OPACITIES[right_idx],\n",
    "                          'PAST_FTR', 'CURR_FTR')\n",
    "\n",
    "    figure.write_image(f\"plots/ftr_plot_img{n+1}.png\")"
   ],
   "metadata": {
    "collapsed": false,
    "pycharm": {
     "name": "#%%\n"
    }
   }
  },
  {
   "cell_type": "code",
   "execution_count": 101,
   "outputs": [
    {
     "ename": "AttributeError",
     "evalue": "'list' object has no attribute 'add'",
     "output_type": "error",
     "traceback": [
      "\u001B[1;31m---------------------------------------------------------------------------\u001B[0m",
      "\u001B[1;31mAttributeError\u001B[0m                            Traceback (most recent call last)",
      "\u001B[1;32m~\\AppData\\Local\\Temp/ipykernel_25700/3244586435.py\u001B[0m in \u001B[0;36m<module>\u001B[1;34m\u001B[0m\n\u001B[1;32m----> 1\u001B[1;33m \u001B[1;33m[\u001B[0m\u001B[1;36m1\u001B[0m\u001B[1;33m,\u001B[0m\u001B[1;36m1\u001B[0m\u001B[1;33m]\u001B[0m\u001B[1;33m.\u001B[0m\u001B[0madd\u001B[0m\u001B[1;33m(\u001B[0m\u001B[1;33m[\u001B[0m\u001B[1;36m1\u001B[0m\u001B[1;33m,\u001B[0m\u001B[1;36m1\u001B[0m\u001B[1;33m]\u001B[0m\u001B[1;33m)\u001B[0m\u001B[1;33m\u001B[0m\u001B[1;33m\u001B[0m\u001B[0m\n\u001B[0m",
      "\u001B[1;31mAttributeError\u001B[0m: 'list' object has no attribute 'add'"
     ]
    }
   ],
   "source": [
    "[1,1].add([1,1])"
   ],
   "metadata": {
    "collapsed": false,
    "pycharm": {
     "name": "#%%\n"
    }
   }
  }
 ],
 "metadata": {
  "kernelspec": {
   "display_name": "Python 3",
   "language": "python",
   "name": "python3"
  },
  "language_info": {
   "codemirror_mode": {
    "name": "ipython",
    "version": 2
   },
   "file_extension": ".py",
   "mimetype": "text/x-python",
   "name": "python",
   "nbconvert_exporter": "python",
   "pygments_lexer": "ipython2",
   "version": "2.7.6"
  }
 },
 "nbformat": 4,
 "nbformat_minor": 0
}